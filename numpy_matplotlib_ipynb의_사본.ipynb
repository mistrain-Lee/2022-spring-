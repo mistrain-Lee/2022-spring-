{
  "nbformat": 4,
  "nbformat_minor": 0,
  "metadata": {
    "kernelspec": {
      "display_name": "Python 3",
      "language": "python",
      "name": "python3"
    },
    "language_info": {
      "codemirror_mode": {
        "name": "ipython",
        "version": 3
      },
      "file_extension": ".py",
      "mimetype": "text/x-python",
      "name": "python",
      "nbconvert_exporter": "python",
      "pygments_lexer": "ipython3",
      "version": "3.7.1"
    },
    "colab": {
      "name": "numpy_matplotlib.ipynb의 사본",
      "provenance": [],
      "include_colab_link": true
    }
  },
  "cells": [
    {
      "cell_type": "markdown",
      "metadata": {
        "id": "view-in-github",
        "colab_type": "text"
      },
      "source": [
        "<a href=\"https://colab.research.google.com/github/mistrain-Lee/2022-spring-/blob/main/numpy_matplotlib_ipynb%EC%9D%98_%EC%82%AC%EB%B3%B8.ipynb\" target=\"_parent\"><img src=\"https://colab.research.google.com/assets/colab-badge.svg\" alt=\"Open In Colab\"/></a>"
      ]
    },
    {
      "cell_type": "markdown",
      "metadata": {
        "id": "JcCdLoe_4bY7"
      },
      "source": [
        "### create nd arrays (≈matrices)"
      ]
    },
    {
      "cell_type": "code",
      "metadata": {
        "id": "5ap7xyofShBB"
      },
      "source": [
        "import numpy as np\n",
        "# numpy는 숫자를 만들어내는 일을 한다. 아셔야 하는\n",
        "# 매트릭스는 행렬이다. 직사각형의 숫자 뱌욜암, \n",
        "# 다섯행이 있고 3d가 될 수 있다. \n"
      ],
      "execution_count": null,
      "outputs": []
    },
    {
      "cell_type": "code",
      "metadata": {
        "id": "2rqpSPZCShBC",
        "colab": {
          "base_uri": "https://localhost:8080/"
        },
        "outputId": "8a4d14a6-b816-432a-caae-902c8c640f33"
      },
      "source": [
        "x = np.array([1,2,3])\n",
        "#리스트이다. \n",
        "# nd 1차원의 에레이다. \n",
        "print(x)\n",
        "print(type(x))\n",
        "print(x.shape)"
      ],
      "execution_count": null,
      "outputs": [
        {
          "output_type": "stream",
          "name": "stdout",
          "text": [
            "[1 2 3]\n",
            "<class 'numpy.ndarray'>\n",
            "(3,)\n"
          ]
        }
      ]
    },
    {
      "cell_type": "code",
      "metadata": {
        "id": "EjC88C75ShBC",
        "colab": {
          "base_uri": "https://localhost:8080/"
        },
        "outputId": "7143e4dd-2864-4b57-855e-56eb92a6bd75"
      },
      "source": [
        "x = np.arange(0,10,2)\n",
        "# 0부터 10까지 2개씩.. \n",
        "print(x)\n",
        "print(type(x))\n",
        "print(x.shape)\n",
        "# shape는 생긴 것이다. 5개의 아이템이 들어있다는 것."
      ],
      "execution_count": null,
      "outputs": [
        {
          "output_type": "stream",
          "name": "stdout",
          "text": [
            "[0 2 4 6 8]\n",
            "<class 'numpy.ndarray'>\n",
            "(5,)\n"
          ]
        }
      ]
    },
    {
      "cell_type": "code",
      "metadata": {
        "id": "-MwkCEjTShBC",
        "colab": {
          "base_uri": "https://localhost:8080/"
        },
        "outputId": "11427674-886c-4f82-ca48-a1465f53223e"
      },
      "source": [
        "x = np.linspace(0,10,6)\n",
        "# 0부터 10까지 10을 포함해서 등분을 해서 6개로\n",
        "print(x)\n",
        "print(type(x))\n",
        "print(x.shape)"
      ],
      "execution_count": null,
      "outputs": [
        {
          "output_type": "stream",
          "name": "stdout",
          "text": [
            "[ 0.  2.  4.  6.  8. 10.]\n",
            "<class 'numpy.ndarray'>\n",
            "(6,)\n"
          ]
        }
      ]
    },
    {
      "cell_type": "code",
      "metadata": {
        "id": "tjk79SQ27fNv",
        "colab": {
          "base_uri": "https://localhost:8080/"
        },
        "outputId": "3ff3368b-6bb1-4664-933e-8504613780b1"
      },
      "source": [
        "x = np.array([[1,2,3], [4,5,6]])\n",
        "# 리스트를 2개 사용했다. 2중 리스트로 되어 있다. \n",
        "# 1,2,3 이렇게 되는 것을 2층으로 만든다는 것이다. 이때 2drkehlsek. \n",
        "print(x)\n",
        "print(type(x))\n",
        "print(x.shape)"
      ],
      "execution_count": null,
      "outputs": [
        {
          "output_type": "stream",
          "name": "stdout",
          "text": [
            "[[1 2 3]\n",
            " [4 5 6]]\n",
            "<class 'numpy.ndarray'>\n",
            "(2, 3)\n"
          ]
        }
      ]
    },
    {
      "cell_type": "code",
      "metadata": {
        "id": "C1ogg6iZ7yir",
        "colab": {
          "base_uri": "https://localhost:8080/"
        },
        "outputId": "baf27f4e-10a7-40bb-82f4-bf470d8de90c"
      },
      "source": [
        "x = np.array([[[1,2,3], [4,5,6]], [[7,8,9], [10,11,12]]])\n",
        "# 리스트 2개를 묶고 있다. \n",
        "# 123\n",
        "# 456\n",
        "# 789\n",
        "# 10 11 12 \n",
        "# n 차원의 array인지를 보기 위해선 가장 처음과 끝에있는 것을 보면 된다. [[[-]]]이면 3d임. \n",
        "print(x)\n",
        "print(type(x))\n",
        "print(x.shape)"
      ],
      "execution_count": null,
      "outputs": [
        {
          "output_type": "stream",
          "name": "stdout",
          "text": [
            "[[[ 1  2  3]\n",
            "  [ 4  5  6]]\n",
            "\n",
            " [[ 7  8  9]\n",
            "  [10 11 12]]]\n",
            "<class 'numpy.ndarray'>\n",
            "(2, 2, 3)\n"
          ]
        }
      ]
    },
    {
      "cell_type": "code",
      "metadata": {
        "id": "efgeNHtD8ZlT",
        "colab": {
          "base_uri": "https://localhost:8080/"
        },
        "outputId": "047fb9dd-8c90-4dbf-9f12-35123bed1052"
      },
      "source": [
        "x = np.ones([2, 2, 3])\n",
        "# ones 함수, 이것을 사용하면 입력에다가 2by 2by 3d array\n",
        "print(x)\n",
        "print(type(x))\n",
        "print(x.shape)"
      ],
      "execution_count": null,
      "outputs": [
        {
          "output_type": "stream",
          "name": "stdout",
          "text": [
            "[[[1. 1. 1.]\n",
            "  [1. 1. 1.]]\n",
            "\n",
            " [[1. 1. 1.]\n",
            "  [1. 1. 1.]]]\n",
            "<class 'numpy.ndarray'>\n",
            "(2, 2, 3)\n"
          ]
        }
      ]
    },
    {
      "cell_type": "code",
      "metadata": {
        "id": "b_F-ccY08zzl",
        "colab": {
          "base_uri": "https://localhost:8080/"
        },
        "outputId": "d56dd759-bbd1-48d5-d208-4a2084fe1cec"
      },
      "source": [
        "x = np.zeros([2, 2, 3])\n",
        "# 1 대신에 0으로 채운느 것이다. \n",
        "print(x)\n",
        "print(type(x))\n",
        "print(x.shape)\n",
        "x.reshape(3,2,2)"
      ],
      "execution_count": null,
      "outputs": [
        {
          "output_type": "stream",
          "name": "stdout",
          "text": [
            "[[[0. 0. 0.]\n",
            "  [0. 0. 0.]]\n",
            "\n",
            " [[0. 0. 0.]\n",
            "  [0. 0. 0.]]]\n",
            "<class 'numpy.ndarray'>\n",
            "(2, 2, 3)\n"
          ]
        },
        {
          "output_type": "execute_result",
          "data": {
            "text/plain": [
              "array([[[0., 0.],\n",
              "        [0., 0.]],\n",
              "\n",
              "       [[0., 0.],\n",
              "        [0., 0.]],\n",
              "\n",
              "       [[0., 0.],\n",
              "        [0., 0.]]])"
            ]
          },
          "metadata": {},
          "execution_count": 27
        }
      ]
    },
    {
      "cell_type": "markdown",
      "metadata": {
        "id": "0hQuDJ5g9gpE"
      },
      "source": [
        "### create random numbers"
      ]
    },
    {
      "cell_type": "code",
      "source": [
        "np.random.normal(0, 1, [2,3,4])\n",
        "# 난수를 만들어준다. \n",
        "# 1번은 평균갑, 2 standard 기준임. 3번째는 nd array - 구조를 말한다.3임 "
      ],
      "metadata": {
        "id": "pCVnElBgan70",
        "outputId": "b06de733-6380-4b28-870b-61ddb453ad8a",
        "colab": {
          "base_uri": "https://localhost:8080/"
        }
      },
      "execution_count": null,
      "outputs": [
        {
          "output_type": "execute_result",
          "data": {
            "text/plain": [
              "array([[[ 0.28610219, -0.7264868 , -0.50719279,  1.04473795],\n",
              "        [-2.6269445 ,  0.80373735, -3.94639222, -0.11259909],\n",
              "        [-0.271832  , -1.03545502, -0.11481238, -0.80041025]],\n",
              "\n",
              "       [[-0.94959226,  1.11390672, -0.47629241, -1.43499953],\n",
              "        [ 1.01427831,  0.93052177, -0.51619177,  1.99354224],\n",
              "        [-0.68265827,  0.97492243, -0.33173391,  0.0293543 ]]])"
            ]
          },
          "metadata": {},
          "execution_count": 5
        }
      ]
    },
    {
      "cell_type": "code",
      "metadata": {
        "id": "QRatmkx79otL"
      },
      "source": [
        "import matplotlib.pyplot as plt"
      ],
      "execution_count": null,
      "outputs": []
    },
    {
      "cell_type": "code",
      "metadata": {
        "id": "z1oOAB6dShBD",
        "colab": {
          "base_uri": "https://localhost:8080/",
          "height": 666
        },
        "outputId": "69b2d01e-634b-4d8c-ab92-830d9b2060d4"
      },
      "source": [
        "x = np.random.normal(0, 1, 100)\n",
        "# 1d이기때문에 긴 하나의 줄이 나온다. \n",
        "# 100개 짜리 숫자가 나온다. \n",
        "print(x)\n",
        "plt.hist(x, bins=10)\n",
        "# 히스토그램 함수를 나은다. 입력으로 nd.array를 넣는다. \n",
        "#bins는 10개의 통을 둔다. \n",
        "# 숫자를 다 넣고 카운트를 한다는 것이다. 16개 21개 "
      ],
      "execution_count": null,
      "outputs": [
        {
          "output_type": "stream",
          "name": "stdout",
          "text": [
            "[-0.58907396 -1.44227221  1.60777098  0.2496751   0.02593814  0.21674284\n",
            " -3.58414914  0.39969716 -1.11000419 -0.74510654  0.99872615  0.36596191\n",
            " -1.20004363  0.14938659  3.63073921 -0.6155562   0.4110593  -0.6106588\n",
            " -0.08559489  0.27470658 -0.27265859 -0.0064331  -0.53914386 -1.86434343\n",
            " -0.79031323 -0.06315073  0.04089143 -0.05810326 -1.560913    1.30515385\n",
            " -0.53310586 -0.41543969 -1.58582145  0.51261565  0.41375832 -1.10215104\n",
            "  0.70581948  0.59091741 -0.99748555 -0.4216657  -1.3843522  -2.23838275\n",
            "  1.26900122 -1.31177701  1.53824516 -1.01464587  0.15745431 -1.22535947\n",
            "  1.26634606  1.20027475 -0.04710173 -0.31848285  0.10317736 -0.49951821\n",
            "  0.62125898 -0.94855585  0.96505515  0.61491424  1.78102986 -0.02065021\n",
            "  1.88590292 -0.07938858  0.58999048  0.8063657   0.66645947 -0.00519159\n",
            " -0.55716635  0.0252071   1.20561567  0.79633632 -0.78605512  0.85493668\n",
            "  0.03790658  1.87731264 -0.16420534 -1.12139734  0.85058824  0.77459435\n",
            " -0.35157974  1.51213584  0.17509253 -0.43646111  1.57752431 -0.11932944\n",
            " -0.32142831 -0.21821381  0.06145767  0.33951746  0.14480558 -0.39032741\n",
            " -0.11776867 -0.05055978  0.63549708 -0.38453733  0.44665127  1.26942344\n",
            " -0.66841461  0.0693883  -1.1143156  -1.17776891]\n"
          ]
        },
        {
          "output_type": "execute_result",
          "data": {
            "text/plain": [
              "(array([ 1.,  1.,  4., 15., 30., 28., 13.,  7.,  0.,  1.]),\n",
              " array([-3.58414914, -2.86266031, -2.14117147, -1.41968264, -0.6981938 ,\n",
              "         0.02329503,  0.74478387,  1.4662727 ,  2.18776154,  2.90925037,\n",
              "         3.63073921]),\n",
              " <a list of 10 Patch objects>)"
            ]
          },
          "metadata": {},
          "execution_count": 5
        },
        {
          "output_type": "display_data",
          "data": {
            "text/plain": [
              "<Figure size 432x288 with 1 Axes>"
            ],
            "image/png": "[encoded data removed]"
          },
          "metadata": {
            "needs_background": "light"
          }
        }
      ]
    },
    {
      "cell_type": "markdown",
      "metadata": {
        "id": "G0exvwBbShBE"
      },
      "source": [
        "### generate a sine curve"
      ]
    },
    {
      "cell_type": "code",
      "metadata": {
        "id": "HgQmRXzMShBE",
        "colab": {
          "base_uri": "https://localhost:8080/",
          "height": 282
        },
        "outputId": "a266cc4f-3373-43c7-d8a8-3290c8bf4248"
      },
      "source": [
        "plt.figure()\n",
        "# 모양을 만든다. 틀을 잡아주는 표를 만들어준다.\n",
        "\n",
        "theta1 = np.linspace(0, 2*np.pi, 100)\n",
        "# linspace는 1번부터 2번까지 등간격으로 3번째 개 까지 만들어라. \n",
        "# pi는 원주율 그 파이임. 0부터 2*np.pi(2ㅠ) 까지 숫자를 만든다.\n",
        "# 100개일 것이다. \n",
        "s1 = np.sin(theta1)\n",
        "# s1는 숫자는 100개임. \n",
        "theta2 = np.linspace(0, 2*np.pi, 100) + np.pi/2\n",
        "# + np.pi/2는 90도 만큼을 더한 것이다. \n",
        "s2 = np.sin(theta2)\n",
        "#sin 함수를 통과했다. \n",
        "\n",
        "plt.subplot(2, 1, 1) # (rows, columns, panel number)\n",
        "# subplot을  하면서 저만큼 그린다. \n",
        "# 2 by 1 - 1번째의 2는 줄을 만들어라. \n",
        "# 1 세로열의 숫자 단위\n",
        "# 마지막 것은 그림 순서임. \n",
        "plt.plot(theta1, s1, '.')\n",
        "#d 여기에 100개의 숫자들을 0.0과 같은 것들이 들어가는\n",
        "# 3번째 .은 .으로 그림을 그리라는 것임\n",
        "plt.subplot(2, 1, 2) # (rows, columns, panel number)\n",
        "plt.plot(theta2, s2, '.')\n",
        "\n",
        "# 2,3 라고 하는 것 이면 가로열 2개 세로열 3개. \n",
        "# 2,2 하고 하는 것은 가로열 2개 세로열 2개. "
      ],
      "execution_count": null,
      "outputs": [
        {
          "output_type": "execute_result",
          "data": {
            "text/plain": [
              "[<matplotlib.lines.Line2D at 0x7f3b55111d90>]"
            ]
          },
          "metadata": {},
          "execution_count": 8
        },
        {
          "output_type": "display_data",
          "data": {
            "text/plain": [
              "<Figure size 432x288 with 2 Axes>"
            ],
            "image/png": "[encoded data removed]"
          },
          "metadata": {
            "needs_background": "light"
          }
        }
      ]
    },
    {
      "cell_type": "code",
      "metadata": {
        "id": "TuH489v9BvQ7",
        "colab": {
          "base_uri": "https://localhost:8080/"
        },
        "outputId": "80f021a2-50ec-4eb5-aed7-4faf9a306496"
      },
      "source": [
        "np.corrcoef(s1,s2)\n",
        "# 영어 축 수학 축을 만들어내고 그 점을 찍을 수 있을 것이다. 찍고 나면서 보면 형태가 뭐 다양할 것이다. \n",
        "# 비례한다는 것이. correlation /coefficeient 어느정도 비례하고 어느정도 따라가는 가를 표시함. \n",
        "# 서로 서로 상관관계가 높다. r은 상관관계를 나타냄. 의 절대값이 1에 가까워진다. 0에가까워질수로 두루뭉술하게 된다. \n",
        "# 그 정도를 그후나는 것이다. \n",
        "\n",
        "# 그것들을 점으로 나타낼 수 있다. correlation을 s1을 넣고 s2를 넣으면 다 해준다. \n",
        "# 왜 여러값이 나오는가? a와 d는 같은 값이 나오고, b와 c는 보자\n",
        "# e-17는 10^-17= 0 거의0이 나오는 것을 알 수 있다. "
      ],
      "execution_count": null,
      "outputs": [
        {
          "output_type": "execute_result",
          "data": {
            "text/plain": [
              "array([[1.00000000e+00, 2.41915449e-17],\n",
              "       [2.41915449e-17, 1.00000000e+00]])"
            ]
          },
          "metadata": {},
          "execution_count": 11
        }
      ]
    }
  ]
}