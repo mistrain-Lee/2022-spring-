{
  "nbformat": 4,
  "nbformat_minor": 0,
  "metadata": {
    "colab": {
      "name": "gradio_practice.ipynb",
      "provenance": [],
      "include_colab_link": true
    },
    "kernelspec": {
      "name": "python3",
      "display_name": "Python 3"
    },
    "language_info": {
      "name": "python"
    }
  },
  "cells": [
    {
      "cell_type": "markdown",
      "metadata": {
        "id": "view-in-github",
        "colab_type": "text"
      },
      "source": [
        "<a href=\"https://colab.research.google.com/github/mistrain-Lee/2022-spring-/blob/main/gradio_practice.ipynb\" target=\"_parent\"><img src=\"https://colab.research.google.com/assets/colab-badge.svg\" alt=\"Open In Colab\"/></a>"
      ]
    },
    {
      "cell_type": "code",
      "execution_count": 3,
      "metadata": {
        "id": "ZhrL6xVSQ9bS"
      },
      "outputs": [],
      "source": [
        "def sum(a, b):\n",
        "\n",
        "  c = int(a + b)\n",
        "  c = '정답은 ' + str(c) + '입니다'\n",
        "  return c\n",
        "  # 그라디오는 함수를 미리 정해놓아야 한다. 그것을 \n",
        "  # 입력변수를 2개로 하겠다.\n",
        "  # 합하는 함수를 만들겠다. a와 b를 받아서 만드는 함수. 2개가 들어오면 그것을 c이다. 요롷게 한다\n",
        "# c를 출력 변수로 한다. c값이 5가 나온다. "
      ]
    },
    {
      "cell_type": "code",
      "source": [
        ""
      ],
      "metadata": {
        "id": "e8vOpx_PkwzV"
      },
      "execution_count": null,
      "outputs": []
    },
    {
      "cell_type": "code",
      "source": [
        "sum(2,3)\n",
        "# 함수를 이렇게 만드는데, 이를 가지고 웹으로 이쁘게 해서 쓰는 사람이 편하게 해주는 것. 그래서 그라디오"
      ],
      "metadata": {
        "id": "1HIgbjYWSBNX",
        "outputId": "4e26ba55-5f98-48f8-81eb-2bb2160fe53e",
        "colab": {
          "base_uri": "https://localhost:8080/",
          "height": 36
        }
      },
      "execution_count": 4,
      "outputs": [
        {
          "output_type": "execute_result",
          "data": {
            "text/plain": [
              "'정답은 5입니다'"
            ],
            "application/vnd.google.colaboratory.intrinsic+json": {
              "type": "string"
            }
          },
          "metadata": {},
          "execution_count": 4
        }
      ]
    },
    {
      "cell_type": "code",
      "source": [
        "!pip install gradio"
      ],
      "metadata": {
        "id": "sfMdWugISD5M",
        "outputId": "e10c11f2-e4e9-4bc2-8070-5467d20dbf21",
        "colab": {
          "base_uri": "https://localhost:8080/"
        }
      },
      "execution_count": 5,
      "outputs": [
        {
          "output_type": "stream",
          "name": "stdout",
          "text": [
            "Collecting gradio\n",
            "  Downloading gradio-2.8.14-py3-none-any.whl (668 kB)\n",
            "\u001b[?25l\r\u001b[K     |▌                               | 10 kB 23.2 MB/s eta 0:00:01\r\u001b[K     |█                               | 20 kB 26.7 MB/s eta 0:00:01\r\u001b[K     |█▌                              | 30 kB 32.7 MB/s eta 0:00:01\r\u001b[K     |██                              | 40 kB 22.8 MB/s eta 0:00:01\r\u001b[K     |██▌                             | 51 kB 18.3 MB/s eta 0:00:01\r\u001b[K     |███                             | 61 kB 21.0 MB/s eta 0:00:01\r\u001b[K     |███▍                            | 71 kB 22.0 MB/s eta 0:00:01\r\u001b[K     |████                            | 81 kB 23.5 MB/s eta 0:00:01\r\u001b[K     |████▍                           | 92 kB 25.7 MB/s eta 0:00:01\r\u001b[K     |█████                           | 102 kB 24.9 MB/s eta 0:00:01\r\u001b[K     |█████▍                          | 112 kB 24.9 MB/s eta 0:00:01\r\u001b[K     |█████▉                          | 122 kB 24.9 MB/s eta 0:00:01\r\u001b[K     |██████▍                         | 133 kB 24.9 MB/s eta 0:00:01\r\u001b[K     |██████▉                         | 143 kB 24.9 MB/s eta 0:00:01\r\u001b[K     |███████▍                        | 153 kB 24.9 MB/s eta 0:00:01\r\u001b[K     |███████▉                        | 163 kB 24.9 MB/s eta 0:00:01\r\u001b[K     |████████▎                       | 174 kB 24.9 MB/s eta 0:00:01\r\u001b[K     |████████▉                       | 184 kB 24.9 MB/s eta 0:00:01\r\u001b[K     |█████████▎                      | 194 kB 24.9 MB/s eta 0:00:01\r\u001b[K     |█████████▉                      | 204 kB 24.9 MB/s eta 0:00:01\r\u001b[K     |██████████▎                     | 215 kB 24.9 MB/s eta 0:00:01\r\u001b[K     |██████████▉                     | 225 kB 24.9 MB/s eta 0:00:01\r\u001b[K     |███████████▎                    | 235 kB 24.9 MB/s eta 0:00:01\r\u001b[K     |███████████▊                    | 245 kB 24.9 MB/s eta 0:00:01\r\u001b[K     |████████████▎                   | 256 kB 24.9 MB/s eta 0:00:01\r\u001b[K     |████████████▊                   | 266 kB 24.9 MB/s eta 0:00:01\r\u001b[K     |█████████████▎                  | 276 kB 24.9 MB/s eta 0:00:01\r\u001b[K     |█████████████▊                  | 286 kB 24.9 MB/s eta 0:00:01\r\u001b[K     |██████████████▏                 | 296 kB 24.9 MB/s eta 0:00:01\r\u001b[K     |██████████████▊                 | 307 kB 24.9 MB/s eta 0:00:01\r\u001b[K     |███████████████▏                | 317 kB 24.9 MB/s eta 0:00:01\r\u001b[K     |███████████████▊                | 327 kB 24.9 MB/s eta 0:00:01\r\u001b[K     |████████████████▏               | 337 kB 24.9 MB/s eta 0:00:01\r\u001b[K     |████████████████▋               | 348 kB 24.9 MB/s eta 0:00:01\r\u001b[K     |█████████████████▏              | 358 kB 24.9 MB/s eta 0:00:01\r\u001b[K     |█████████████████▋              | 368 kB 24.9 MB/s eta 0:00:01\r\u001b[K     |██████████████████▏             | 378 kB 24.9 MB/s eta 0:00:01\r\u001b[K     |██████████████████▋             | 389 kB 24.9 MB/s eta 0:00:01\r\u001b[K     |███████████████████▏            | 399 kB 24.9 MB/s eta 0:00:01\r\u001b[K     |███████████████████▋            | 409 kB 24.9 MB/s eta 0:00:01\r\u001b[K     |████████████████████            | 419 kB 24.9 MB/s eta 0:00:01\r\u001b[K     |████████████████████▋           | 430 kB 24.9 MB/s eta 0:00:01\r\u001b[K     |█████████████████████           | 440 kB 24.9 MB/s eta 0:00:01\r\u001b[K     |█████████████████████▋          | 450 kB 24.9 MB/s eta 0:00:01\r\u001b[K     |██████████████████████          | 460 kB 24.9 MB/s eta 0:00:01\r\u001b[K     |██████████████████████▌         | 471 kB 24.9 MB/s eta 0:00:01\r\u001b[K     |███████████████████████         | 481 kB 24.9 MB/s eta 0:00:01\r\u001b[K     |███████████████████████▌        | 491 kB 24.9 MB/s eta 0:00:01\r\u001b[K     |████████████████████████        | 501 kB 24.9 MB/s eta 0:00:01\r\u001b[K     |████████████████████████▌       | 512 kB 24.9 MB/s eta 0:00:01\r\u001b[K     |█████████████████████████       | 522 kB 24.9 MB/s eta 0:00:01\r\u001b[K     |█████████████████████████▌      | 532 kB 24.9 MB/s eta 0:00:01\r\u001b[K     |██████████████████████████      | 542 kB 24.9 MB/s eta 0:00:01\r\u001b[K     |██████████████████████████▌     | 552 kB 24.9 MB/s eta 0:00:01\r\u001b[K     |███████████████████████████     | 563 kB 24.9 MB/s eta 0:00:01\r\u001b[K     |███████████████████████████▍    | 573 kB 24.9 MB/s eta 0:00:01\r\u001b[K     |████████████████████████████    | 583 kB 24.9 MB/s eta 0:00:01\r\u001b[K     |████████████████████████████▍   | 593 kB 24.9 MB/s eta 0:00:01\r\u001b[K     |█████████████████████████████   | 604 kB 24.9 MB/s eta 0:00:01\r\u001b[K     |█████████████████████████████▍  | 614 kB 24.9 MB/s eta 0:00:01\r\u001b[K     |██████████████████████████████  | 624 kB 24.9 MB/s eta 0:00:01\r\u001b[K     |██████████████████████████████▍ | 634 kB 24.9 MB/s eta 0:00:01\r\u001b[K     |██████████████████████████████▉ | 645 kB 24.9 MB/s eta 0:00:01\r\u001b[K     |███████████████████████████████▍| 655 kB 24.9 MB/s eta 0:00:01\r\u001b[K     |███████████████████████████████▉| 665 kB 24.9 MB/s eta 0:00:01\r\u001b[K     |████████████████████████████████| 668 kB 24.9 MB/s \n",
            "\u001b[?25hRequirement already satisfied: numpy in /usr/local/lib/python3.7/dist-packages (from gradio) (1.21.5)\n",
            "Collecting orjson\n",
            "  Downloading orjson-3.6.7-cp37-cp37m-manylinux_2_24_x86_64.whl (255 kB)\n",
            "\u001b[K     |████████████████████████████████| 255 kB 47.8 MB/s \n",
            "\u001b[?25hCollecting uvicorn\n",
            "  Downloading uvicorn-0.17.6-py3-none-any.whl (53 kB)\n",
            "\u001b[K     |████████████████████████████████| 53 kB 2.3 MB/s \n",
            "\u001b[?25hCollecting fastapi\n",
            "  Downloading fastapi-0.75.0-py3-none-any.whl (54 kB)\n",
            "\u001b[K     |████████████████████████████████| 54 kB 3.1 MB/s \n",
            "\u001b[?25hCollecting analytics-python\n",
            "  Downloading analytics_python-1.4.0-py2.py3-none-any.whl (15 kB)\n",
            "Collecting markdown-it-py[linkify,plugins]\n",
            "  Downloading markdown_it_py-2.0.1-py3-none-any.whl (84 kB)\n",
            "\u001b[K     |████████████████████████████████| 84 kB 2.7 MB/s \n",
            "\u001b[?25hCollecting paramiko\n",
            "  Downloading paramiko-2.10.3-py2.py3-none-any.whl (211 kB)\n",
            "\u001b[K     |████████████████████████████████| 211 kB 60.2 MB/s \n",
            "\u001b[?25hCollecting pycryptodome\n",
            "  Downloading pycryptodome-3.14.1-cp35-abi3-manylinux2010_x86_64.whl (2.0 MB)\n",
            "\u001b[K     |████████████████████████████████| 2.0 MB 49.5 MB/s \n",
            "\u001b[?25hCollecting python-multipart\n",
            "  Downloading python-multipart-0.0.5.tar.gz (32 kB)\n",
            "Requirement already satisfied: pillow in /usr/local/lib/python3.7/dist-packages (from gradio) (7.1.2)\n",
            "Collecting pydub\n",
            "  Downloading pydub-0.25.1-py2.py3-none-any.whl (32 kB)\n",
            "Collecting ffmpy\n",
            "  Downloading ffmpy-0.3.0.tar.gz (4.8 kB)\n",
            "Requirement already satisfied: matplotlib in /usr/local/lib/python3.7/dist-packages (from gradio) (3.2.2)\n",
            "Collecting aiohttp\n",
            "  Downloading aiohttp-3.8.1-cp37-cp37m-manylinux_2_5_x86_64.manylinux1_x86_64.manylinux_2_12_x86_64.manylinux2010_x86_64.whl (1.1 MB)\n",
            "\u001b[K     |████████████████████████████████| 1.1 MB 37.8 MB/s \n",
            "\u001b[?25hRequirement already satisfied: requests in /usr/local/lib/python3.7/dist-packages (from gradio) (2.23.0)\n",
            "Requirement already satisfied: pandas in /usr/local/lib/python3.7/dist-packages (from gradio) (1.3.5)\n",
            "Collecting yarl<2.0,>=1.0\n",
            "  Downloading yarl-1.7.2-cp37-cp37m-manylinux_2_5_x86_64.manylinux1_x86_64.manylinux_2_12_x86_64.manylinux2010_x86_64.whl (271 kB)\n",
            "\u001b[K     |████████████████████████████████| 271 kB 47.9 MB/s \n",
            "\u001b[?25hCollecting frozenlist>=1.1.1\n",
            "  Downloading frozenlist-1.3.0-cp37-cp37m-manylinux_2_5_x86_64.manylinux1_x86_64.manylinux_2_17_x86_64.manylinux2014_x86_64.whl (144 kB)\n",
            "\u001b[K     |████████████████████████████████| 144 kB 45.0 MB/s \n",
            "\u001b[?25hRequirement already satisfied: attrs>=17.3.0 in /usr/local/lib/python3.7/dist-packages (from aiohttp->gradio) (21.4.0)\n",
            "Requirement already satisfied: typing-extensions>=3.7.4 in /usr/local/lib/python3.7/dist-packages (from aiohttp->gradio) (3.10.0.2)\n",
            "Collecting aiosignal>=1.1.2\n",
            "  Downloading aiosignal-1.2.0-py3-none-any.whl (8.2 kB)\n",
            "Collecting asynctest==0.13.0\n",
            "  Downloading asynctest-0.13.0-py3-none-any.whl (26 kB)\n",
            "Collecting multidict<7.0,>=4.5\n",
            "  Downloading multidict-6.0.2-cp37-cp37m-manylinux_2_17_x86_64.manylinux2014_x86_64.whl (94 kB)\n",
            "\u001b[K     |████████████████████████████████| 94 kB 3.9 MB/s \n",
            "\u001b[?25hRequirement already satisfied: charset-normalizer<3.0,>=2.0 in /usr/local/lib/python3.7/dist-packages (from aiohttp->gradio) (2.0.12)\n",
            "Collecting async-timeout<5.0,>=4.0.0a3\n",
            "  Downloading async_timeout-4.0.2-py3-none-any.whl (5.8 kB)\n",
            "Requirement already satisfied: idna>=2.0 in /usr/local/lib/python3.7/dist-packages (from yarl<2.0,>=1.0->aiohttp->gradio) (2.10)\n",
            "Collecting monotonic>=1.5\n",
            "  Downloading monotonic-1.6-py2.py3-none-any.whl (8.2 kB)\n",
            "Requirement already satisfied: python-dateutil>2.1 in /usr/local/lib/python3.7/dist-packages (from analytics-python->gradio) (2.8.2)\n",
            "Collecting backoff==1.10.0\n",
            "  Downloading backoff-1.10.0-py2.py3-none-any.whl (31 kB)\n",
            "Requirement already satisfied: six>=1.5 in /usr/local/lib/python3.7/dist-packages (from analytics-python->gradio) (1.15.0)\n",
            "Requirement already satisfied: urllib3!=1.25.0,!=1.25.1,<1.26,>=1.21.1 in /usr/local/lib/python3.7/dist-packages (from requests->gradio) (1.24.3)\n",
            "Requirement already satisfied: certifi>=2017.4.17 in /usr/local/lib/python3.7/dist-packages (from requests->gradio) (2021.10.8)\n",
            "Requirement already satisfied: chardet<4,>=3.0.2 in /usr/local/lib/python3.7/dist-packages (from requests->gradio) (3.0.4)\n",
            "Collecting starlette==0.17.1\n",
            "  Downloading starlette-0.17.1-py3-none-any.whl (58 kB)\n",
            "\u001b[K     |████████████████████████████████| 58 kB 6.5 MB/s \n",
            "\u001b[?25hCollecting pydantic!=1.7,!=1.7.1,!=1.7.2,!=1.7.3,!=1.8,!=1.8.1,<2.0.0,>=1.6.2\n",
            "  Downloading pydantic-1.9.0-cp37-cp37m-manylinux_2_17_x86_64.manylinux2014_x86_64.whl (10.9 MB)\n",
            "\u001b[K     |████████████████████████████████| 10.9 MB 40.8 MB/s \n",
            "\u001b[?25hCollecting anyio<4,>=3.0.0\n",
            "  Downloading anyio-3.5.0-py3-none-any.whl (79 kB)\n",
            "\u001b[K     |████████████████████████████████| 79 kB 8.5 MB/s \n",
            "\u001b[?25hCollecting sniffio>=1.1\n",
            "  Downloading sniffio-1.2.0-py3-none-any.whl (10 kB)\n",
            "Collecting mdurl~=0.1\n",
            "  Downloading mdurl-0.1.0-py3-none-any.whl (11 kB)\n",
            "Collecting mdit-py-plugins\n",
            "  Downloading mdit_py_plugins-0.3.0-py3-none-any.whl (43 kB)\n",
            "\u001b[K     |████████████████████████████████| 43 kB 2.4 MB/s \n",
            "\u001b[?25hCollecting linkify-it-py~=1.0\n",
            "  Downloading linkify_it_py-1.0.3-py3-none-any.whl (19 kB)\n",
            "Collecting uc-micro-py\n",
            "  Downloading uc_micro_py-1.0.1-py3-none-any.whl (6.2 kB)\n",
            "Requirement already satisfied: pyparsing!=2.0.4,!=2.1.2,!=2.1.6,>=2.0.1 in /usr/local/lib/python3.7/dist-packages (from matplotlib->gradio) (3.0.7)\n",
            "Requirement already satisfied: kiwisolver>=1.0.1 in /usr/local/lib/python3.7/dist-packages (from matplotlib->gradio) (1.4.0)\n",
            "Requirement already satisfied: cycler>=0.10 in /usr/local/lib/python3.7/dist-packages (from matplotlib->gradio) (0.11.0)\n",
            "Requirement already satisfied: pytz>=2017.3 in /usr/local/lib/python3.7/dist-packages (from pandas->gradio) (2018.9)\n",
            "Collecting bcrypt>=3.1.3\n",
            "  Downloading bcrypt-3.2.0-cp36-abi3-manylinux_2_17_x86_64.manylinux2014_x86_64.manylinux_2_24_x86_64.whl (61 kB)\n",
            "\u001b[K     |████████████████████████████████| 61 kB 517 kB/s \n",
            "\u001b[?25hCollecting cryptography>=2.5\n",
            "  Downloading cryptography-36.0.2-cp36-abi3-manylinux_2_24_x86_64.whl (3.6 MB)\n",
            "\u001b[K     |████████████████████████████████| 3.6 MB 66.6 MB/s \n",
            "\u001b[?25hCollecting pynacl>=1.0.1\n",
            "  Downloading PyNaCl-1.5.0-cp36-abi3-manylinux_2_17_x86_64.manylinux2014_x86_64.manylinux_2_24_x86_64.whl (856 kB)\n",
            "\u001b[K     |████████████████████████████████| 856 kB 56.1 MB/s \n",
            "\u001b[?25hRequirement already satisfied: cffi>=1.1 in /usr/local/lib/python3.7/dist-packages (from bcrypt>=3.1.3->paramiko->gradio) (1.15.0)\n",
            "Requirement already satisfied: pycparser in /usr/local/lib/python3.7/dist-packages (from cffi>=1.1->bcrypt>=3.1.3->paramiko->gradio) (2.21)\n",
            "Collecting h11>=0.8\n",
            "  Downloading h11-0.13.0-py3-none-any.whl (58 kB)\n",
            "\u001b[K     |████████████████████████████████| 58 kB 6.7 MB/s \n",
            "\u001b[?25hCollecting asgiref>=3.4.0\n",
            "  Downloading asgiref-3.5.0-py3-none-any.whl (22 kB)\n",
            "Requirement already satisfied: click>=7.0 in /usr/local/lib/python3.7/dist-packages (from uvicorn->gradio) (7.1.2)\n",
            "Building wheels for collected packages: ffmpy, python-multipart\n",
            "  Building wheel for ffmpy (setup.py) ... \u001b[?25l\u001b[?25hdone\n",
            "  Created wheel for ffmpy: filename=ffmpy-0.3.0-py3-none-any.whl size=4712 sha256=3217dd0c7fd6970f7cf5d27f324097fc9e6a8f6735d66d5e729d5450b2f65dff\n",
            "  Stored in directory: /root/.cache/pip/wheels/13/e4/6c/e8059816e86796a597c6e6b0d4c880630f51a1fcfa0befd5e6\n",
            "  Building wheel for python-multipart (setup.py) ... \u001b[?25l\u001b[?25hdone\n",
            "  Created wheel for python-multipart: filename=python_multipart-0.0.5-py3-none-any.whl size=31678 sha256=2688fcbd224c25868faf035259a44fae6354cd1afa89b082e0baf02b9b20d0c4\n",
            "  Stored in directory: /root/.cache/pip/wheels/2c/41/7c/bfd1c180534ffdcc0972f78c5758f89881602175d48a8bcd2c\n",
            "Successfully built ffmpy python-multipart\n",
            "Installing collected packages: sniffio, mdurl, uc-micro-py, multidict, markdown-it-py, frozenlist, anyio, yarl, starlette, pynacl, pydantic, monotonic, mdit-py-plugins, linkify-it-py, h11, cryptography, bcrypt, backoff, asynctest, async-timeout, asgiref, aiosignal, uvicorn, python-multipart, pydub, pycryptodome, paramiko, orjson, ffmpy, fastapi, analytics-python, aiohttp, gradio\n",
            "Successfully installed aiohttp-3.8.1 aiosignal-1.2.0 analytics-python-1.4.0 anyio-3.5.0 asgiref-3.5.0 async-timeout-4.0.2 asynctest-0.13.0 backoff-1.10.0 bcrypt-3.2.0 cryptography-36.0.2 fastapi-0.75.0 ffmpy-0.3.0 frozenlist-1.3.0 gradio-2.8.14 h11-0.13.0 linkify-it-py-1.0.3 markdown-it-py-2.0.1 mdit-py-plugins-0.3.0 mdurl-0.1.0 monotonic-1.6 multidict-6.0.2 orjson-3.6.7 paramiko-2.10.3 pycryptodome-3.14.1 pydantic-1.9.0 pydub-0.25.1 pynacl-1.5.0 python-multipart-0.0.5 sniffio-1.2.0 starlette-0.17.1 uc-micro-py-1.0.1 uvicorn-0.17.6 yarl-1.7.2\n"
          ]
        }
      ]
    },
    {
      "cell_type": "code",
      "source": [
        "import gradio as gr"
      ],
      "metadata": {
        "id": "buyjOWYWS41q"
      },
      "execution_count": 6,
      "outputs": []
    },
    {
      "cell_type": "code",
      "source": [
        "iface = gr.Interface(sum, inputs = [\"number\", \"number\"], outputs = [\"text\"])\n",
        "# 1그라디오 인터페이스 ()괄호열고\n",
        "# 2 괄호안에다가 만들어놓은 함수명을 쓴다.\n",
        "# 3 그리고 입력-아까 함수에서 변수를 ab로 지정했음- 변수 2개 / 물론 변수타입도 주의\n",
        "# 3.* 변수의 종류- 그라디오에서 확인 = document(docs) 확인. \n",
        "# 4 그리고 출력을 작성해준다. 변수 1개\n",
        "\n",
        "iface.launch()\n",
        "# 런치를 해주어야 한다. 그리고 웹데모를 만든다."
      ],
      "metadata": {
        "id": "vNlrBEbSS7ge"
      },
      "execution_count": null,
      "outputs": []
    },
    {
      "cell_type": "code",
      "source": [
        "iface = gr.Interface(sum, [gr.inputs.Number(label='input1'), gr.inputs.Number(label='input2')], gr.outputs.Textbox(label='answer'))\n",
        "iface.launch()\n",
        "\n",
        "#72시간ㄷ옹안 유지 \n",
        "# 리스트로 2개가 있는\n",
        "# 그라디오 다큐에 다 되어 있다. 앤스어- 앤스어 하니까 나옴. \n",
        "# 간단하게는 저렇게 적어주면 된다. 리스트로 해서 인풋의 유형만 해서 오디오인지 이미지 인지. 해서. 데코를 하려면 인풋을 리스트 넘버를 작성한다. "
      ],
      "metadata": {
        "id": "9C_eEMRCWExA",
        "outputId": "f49d77b4-88f8-4e0a-e3bd-b33e72aa54af",
        "colab": {
          "base_uri": "https://localhost:8080/",
          "height": 668
        }
      },
      "execution_count": 7,
      "outputs": [
        {
          "output_type": "stream",
          "name": "stdout",
          "text": [
            "Colab notebook detected. To show errors in colab notebook, set `debug=True` in `launch()`\n",
            "Running on public URL: https://51868.gradio.app\n",
            "\n",
            "This share link expires in 72 hours. For free permanent hosting, check out Spaces (https://huggingface.co/spaces)\n"
          ]
        },
        {
          "output_type": "display_data",
          "data": {
            "text/plain": [
              "<IPython.lib.display.IFrame at 0x7f1d1fad8290>"
            ],
            "text/html": [
              "\n",
              "        <iframe\n",
              "            width=\"900\"\n",
              "            height=\"500\"\n",
              "            src=\"https://51868.gradio.app\"\n",
              "            frameborder=\"0\"\n",
              "            allowfullscreen\n",
              "        ></iframe>\n",
              "        "
            ]
          },
          "metadata": {}
        },
        {
          "output_type": "execute_result",
          "data": {
            "text/plain": [
              "(<fastapi.applications.FastAPI at 0x7f1d28673090>,\n",
              " 'http://127.0.0.1:7860/',\n",
              " 'https://51868.gradio.app')"
            ]
          },
          "metadata": {},
          "execution_count": 7
        }
      ]
    }
  ]
}