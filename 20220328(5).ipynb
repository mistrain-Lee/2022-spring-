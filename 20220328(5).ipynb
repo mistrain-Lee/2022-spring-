{
  "nbformat": 4,
  "nbformat_minor": 0,
  "metadata": {
    "colab": {
      "name": "Untitled2.ipynb",
      "provenance": [],
      "authorship_tag": "ABX9TyPzMAwFJFSBRlJg+d37u1RV",
      "include_colab_link": true
    },
    "kernelspec": {
      "name": "python3",
      "display_name": "Python 3"
    },
    "language_info": {
      "name": "python"
    }
  },
  "cells": [
    {
      "cell_type": "markdown",
      "metadata": {
        "id": "view-in-github",
        "colab_type": "text"
      },
      "source": [
        "<a href=\"https://colab.research.google.com/github/mistrain-Lee/2022-spring-/blob/main/20220328(5).ipynb\" target=\"_parent\"><img src=\"https://colab.research.google.com/assets/colab-badge.svg\" alt=\"Open In Colab\"/></a>"
      ]
    },
    {
      "cell_type": "code",
      "execution_count": 1,
      "metadata": {
        "colab": {
          "base_uri": "https://localhost:8080/"
        },
        "id": "Bu7cE886eYNi",
        "outputId": "ed7572a1-c809-4f9b-a872-13f9d28e1e1e"
      },
      "outputs": [
        {
          "output_type": "stream",
          "name": "stdout",
          "text": [
            "Collecting gradio\n",
            "  Downloading gradio-2.9.1-py3-none-any.whl (1.7 MB)\n",
            "\u001b[?25l\r\u001b[K     |▏                               | 10 kB 16.8 MB/s eta 0:00:01\r\u001b[K     |▍                               | 20 kB 19.0 MB/s eta 0:00:01\r\u001b[K     |▋                               | 30 kB 21.8 MB/s eta 0:00:01\r\u001b[K     |▊                               | 40 kB 23.7 MB/s eta 0:00:01\r\u001b[K     |█                               | 51 kB 21.4 MB/s eta 0:00:01\r\u001b[K     |█▏                              | 61 kB 23.2 MB/s eta 0:00:01\r\u001b[K     |█▎                              | 71 kB 19.4 MB/s eta 0:00:01\r\u001b[K     |█▌                              | 81 kB 19.6 MB/s eta 0:00:01\r\u001b[K     |█▊                              | 92 kB 20.5 MB/s eta 0:00:01\r\u001b[K     |█▉                              | 102 kB 21.6 MB/s eta 0:00:01\r\u001b[K     |██                              | 112 kB 21.6 MB/s eta 0:00:01\r\u001b[K     |██▎                             | 122 kB 21.6 MB/s eta 0:00:01\r\u001b[K     |██▍                             | 133 kB 21.6 MB/s eta 0:00:01\r\u001b[K     |██▋                             | 143 kB 21.6 MB/s eta 0:00:01\r\u001b[K     |██▉                             | 153 kB 21.6 MB/s eta 0:00:01\r\u001b[K     |███                             | 163 kB 21.6 MB/s eta 0:00:01\r\u001b[K     |███▏                            | 174 kB 21.6 MB/s eta 0:00:01\r\u001b[K     |███▍                            | 184 kB 21.6 MB/s eta 0:00:01\r\u001b[K     |███▋                            | 194 kB 21.6 MB/s eta 0:00:01\r\u001b[K     |███▊                            | 204 kB 21.6 MB/s eta 0:00:01\r\u001b[K     |████                            | 215 kB 21.6 MB/s eta 0:00:01\r\u001b[K     |████▏                           | 225 kB 21.6 MB/s eta 0:00:01\r\u001b[K     |████▎                           | 235 kB 21.6 MB/s eta 0:00:01\r\u001b[K     |████▌                           | 245 kB 21.6 MB/s eta 0:00:01\r\u001b[K     |████▊                           | 256 kB 21.6 MB/s eta 0:00:01\r\u001b[K     |████▉                           | 266 kB 21.6 MB/s eta 0:00:01\r\u001b[K     |█████                           | 276 kB 21.6 MB/s eta 0:00:01\r\u001b[K     |█████▎                          | 286 kB 21.6 MB/s eta 0:00:01\r\u001b[K     |█████▍                          | 296 kB 21.6 MB/s eta 0:00:01\r\u001b[K     |█████▋                          | 307 kB 21.6 MB/s eta 0:00:01\r\u001b[K     |█████▉                          | 317 kB 21.6 MB/s eta 0:00:01\r\u001b[K     |██████                          | 327 kB 21.6 MB/s eta 0:00:01\r\u001b[K     |██████▏                         | 337 kB 21.6 MB/s eta 0:00:01\r\u001b[K     |██████▍                         | 348 kB 21.6 MB/s eta 0:00:01\r\u001b[K     |██████▌                         | 358 kB 21.6 MB/s eta 0:00:01\r\u001b[K     |██████▊                         | 368 kB 21.6 MB/s eta 0:00:01\r\u001b[K     |███████                         | 378 kB 21.6 MB/s eta 0:00:01\r\u001b[K     |███████▏                        | 389 kB 21.6 MB/s eta 0:00:01\r\u001b[K     |███████▎                        | 399 kB 21.6 MB/s eta 0:00:01\r\u001b[K     |███████▌                        | 409 kB 21.6 MB/s eta 0:00:01\r\u001b[K     |███████▊                        | 419 kB 21.6 MB/s eta 0:00:01\r\u001b[K     |███████▉                        | 430 kB 21.6 MB/s eta 0:00:01\r\u001b[K     |████████                        | 440 kB 21.6 MB/s eta 0:00:01\r\u001b[K     |████████▎                       | 450 kB 21.6 MB/s eta 0:00:01\r\u001b[K     |████████▍                       | 460 kB 21.6 MB/s eta 0:00:01\r\u001b[K     |████████▋                       | 471 kB 21.6 MB/s eta 0:00:01\r\u001b[K     |████████▉                       | 481 kB 21.6 MB/s eta 0:00:01\r\u001b[K     |█████████                       | 491 kB 21.6 MB/s eta 0:00:01\r\u001b[K     |█████████▏                      | 501 kB 21.6 MB/s eta 0:00:01\r\u001b[K     |█████████▍                      | 512 kB 21.6 MB/s eta 0:00:01\r\u001b[K     |█████████▌                      | 522 kB 21.6 MB/s eta 0:00:01\r\u001b[K     |█████████▊                      | 532 kB 21.6 MB/s eta 0:00:01\r\u001b[K     |██████████                      | 542 kB 21.6 MB/s eta 0:00:01\r\u001b[K     |██████████▏                     | 552 kB 21.6 MB/s eta 0:00:01\r\u001b[K     |██████████▎                     | 563 kB 21.6 MB/s eta 0:00:01\r\u001b[K     |██████████▌                     | 573 kB 21.6 MB/s eta 0:00:01\r\u001b[K     |██████████▊                     | 583 kB 21.6 MB/s eta 0:00:01\r\u001b[K     |██████████▉                     | 593 kB 21.6 MB/s eta 0:00:01\r\u001b[K     |███████████                     | 604 kB 21.6 MB/s eta 0:00:01\r\u001b[K     |███████████▎                    | 614 kB 21.6 MB/s eta 0:00:01\r\u001b[K     |███████████▍                    | 624 kB 21.6 MB/s eta 0:00:01\r\u001b[K     |███████████▋                    | 634 kB 21.6 MB/s eta 0:00:01\r\u001b[K     |███████████▉                    | 645 kB 21.6 MB/s eta 0:00:01\r\u001b[K     |████████████                    | 655 kB 21.6 MB/s eta 0:00:01\r\u001b[K     |████████████▏                   | 665 kB 21.6 MB/s eta 0:00:01\r\u001b[K     |████████████▍                   | 675 kB 21.6 MB/s eta 0:00:01\r\u001b[K     |████████████▌                   | 686 kB 21.6 MB/s eta 0:00:01\r\u001b[K     |████████████▊                   | 696 kB 21.6 MB/s eta 0:00:01\r\u001b[K     |█████████████                   | 706 kB 21.6 MB/s eta 0:00:01\r\u001b[K     |█████████████                   | 716 kB 21.6 MB/s eta 0:00:01\r\u001b[K     |█████████████▎                  | 727 kB 21.6 MB/s eta 0:00:01\r\u001b[K     |█████████████▌                  | 737 kB 21.6 MB/s eta 0:00:01\r\u001b[K     |█████████████▊                  | 747 kB 21.6 MB/s eta 0:00:01\r\u001b[K     |█████████████▉                  | 757 kB 21.6 MB/s eta 0:00:01\r\u001b[K     |██████████████                  | 768 kB 21.6 MB/s eta 0:00:01\r\u001b[K     |██████████████▎                 | 778 kB 21.6 MB/s eta 0:00:01\r\u001b[K     |██████████████▍                 | 788 kB 21.6 MB/s eta 0:00:01\r\u001b[K     |██████████████▋                 | 798 kB 21.6 MB/s eta 0:00:01\r\u001b[K     |██████████████▉                 | 808 kB 21.6 MB/s eta 0:00:01\r\u001b[K     |███████████████                 | 819 kB 21.6 MB/s eta 0:00:01\r\u001b[K     |███████████████▏                | 829 kB 21.6 MB/s eta 0:00:01\r\u001b[K     |███████████████▍                | 839 kB 21.6 MB/s eta 0:00:01\r\u001b[K     |███████████████▌                | 849 kB 21.6 MB/s eta 0:00:01\r\u001b[K     |███████████████▊                | 860 kB 21.6 MB/s eta 0:00:01\r\u001b[K     |████████████████                | 870 kB 21.6 MB/s eta 0:00:01\r\u001b[K     |████████████████                | 880 kB 21.6 MB/s eta 0:00:01\r\u001b[K     |████████████████▎               | 890 kB 21.6 MB/s eta 0:00:01\r\u001b[K     |████████████████▌               | 901 kB 21.6 MB/s eta 0:00:01\r\u001b[K     |████████████████▋               | 911 kB 21.6 MB/s eta 0:00:01\r\u001b[K     |████████████████▉               | 921 kB 21.6 MB/s eta 0:00:01\r\u001b[K     |█████████████████               | 931 kB 21.6 MB/s eta 0:00:01\r\u001b[K     |█████████████████▎              | 942 kB 21.6 MB/s eta 0:00:01\r\u001b[K     |█████████████████▍              | 952 kB 21.6 MB/s eta 0:00:01\r\u001b[K     |█████████████████▋              | 962 kB 21.6 MB/s eta 0:00:01\r\u001b[K     |█████████████████▉              | 972 kB 21.6 MB/s eta 0:00:01\r\u001b[K     |██████████████████              | 983 kB 21.6 MB/s eta 0:00:01\r\u001b[K     |██████████████████▏             | 993 kB 21.6 MB/s eta 0:00:01\r\u001b[K     |██████████████████▍             | 1.0 MB 21.6 MB/s eta 0:00:01\r\u001b[K     |██████████████████▌             | 1.0 MB 21.6 MB/s eta 0:00:01\r\u001b[K     |██████████████████▊             | 1.0 MB 21.6 MB/s eta 0:00:01\r\u001b[K     |███████████████████             | 1.0 MB 21.6 MB/s eta 0:00:01\r\u001b[K     |███████████████████             | 1.0 MB 21.6 MB/s eta 0:00:01\r\u001b[K     |███████████████████▎            | 1.1 MB 21.6 MB/s eta 0:00:01\r\u001b[K     |███████████████████▌            | 1.1 MB 21.6 MB/s eta 0:00:01\r\u001b[K     |███████████████████▋            | 1.1 MB 21.6 MB/s eta 0:00:01\r\u001b[K     |███████████████████▉            | 1.1 MB 21.6 MB/s eta 0:00:01\r\u001b[K     |████████████████████            | 1.1 MB 21.6 MB/s eta 0:00:01\r\u001b[K     |████████████████████▎           | 1.1 MB 21.6 MB/s eta 0:00:01\r\u001b[K     |████████████████████▍           | 1.1 MB 21.6 MB/s eta 0:00:01\r\u001b[K     |████████████████████▋           | 1.1 MB 21.6 MB/s eta 0:00:01\r\u001b[K     |████████████████████▉           | 1.1 MB 21.6 MB/s eta 0:00:01\r\u001b[K     |█████████████████████           | 1.1 MB 21.6 MB/s eta 0:00:01\r\u001b[K     |█████████████████████▏          | 1.2 MB 21.6 MB/s eta 0:00:01\r\u001b[K     |█████████████████████▍          | 1.2 MB 21.6 MB/s eta 0:00:01\r\u001b[K     |█████████████████████▌          | 1.2 MB 21.6 MB/s eta 0:00:01\r\u001b[K     |█████████████████████▊          | 1.2 MB 21.6 MB/s eta 0:00:01\r\u001b[K     |██████████████████████          | 1.2 MB 21.6 MB/s eta 0:00:01\r\u001b[K     |██████████████████████          | 1.2 MB 21.6 MB/s eta 0:00:01\r\u001b[K     |██████████████████████▎         | 1.2 MB 21.6 MB/s eta 0:00:01\r\u001b[K     |██████████████████████▌         | 1.2 MB 21.6 MB/s eta 0:00:01\r\u001b[K     |██████████████████████▋         | 1.2 MB 21.6 MB/s eta 0:00:01\r\u001b[K     |██████████████████████▉         | 1.2 MB 21.6 MB/s eta 0:00:01\r\u001b[K     |███████████████████████         | 1.3 MB 21.6 MB/s eta 0:00:01\r\u001b[K     |███████████████████████▏        | 1.3 MB 21.6 MB/s eta 0:00:01\r\u001b[K     |███████████████████████▍        | 1.3 MB 21.6 MB/s eta 0:00:01\r\u001b[K     |███████████████████████▋        | 1.3 MB 21.6 MB/s eta 0:00:01\r\u001b[K     |███████████████████████▉        | 1.3 MB 21.6 MB/s eta 0:00:01\r\u001b[K     |████████████████████████        | 1.3 MB 21.6 MB/s eta 0:00:01\r\u001b[K     |████████████████████████▏       | 1.3 MB 21.6 MB/s eta 0:00:01\r\u001b[K     |████████████████████████▍       | 1.3 MB 21.6 MB/s eta 0:00:01\r\u001b[K     |████████████████████████▌       | 1.3 MB 21.6 MB/s eta 0:00:01\r\u001b[K     |████████████████████████▊       | 1.4 MB 21.6 MB/s eta 0:00:01\r\u001b[K     |█████████████████████████       | 1.4 MB 21.6 MB/s eta 0:00:01\r\u001b[K     |█████████████████████████       | 1.4 MB 21.6 MB/s eta 0:00:01\r\u001b[K     |█████████████████████████▎      | 1.4 MB 21.6 MB/s eta 0:00:01\r\u001b[K     |█████████████████████████▌      | 1.4 MB 21.6 MB/s eta 0:00:01\r\u001b[K     |█████████████████████████▋      | 1.4 MB 21.6 MB/s eta 0:00:01\r\u001b[K     |█████████████████████████▉      | 1.4 MB 21.6 MB/s eta 0:00:01\r\u001b[K     |██████████████████████████      | 1.4 MB 21.6 MB/s eta 0:00:01\r\u001b[K     |██████████████████████████▏     | 1.4 MB 21.6 MB/s eta 0:00:01\r\u001b[K     |██████████████████████████▍     | 1.4 MB 21.6 MB/s eta 0:00:01\r\u001b[K     |██████████████████████████▋     | 1.5 MB 21.6 MB/s eta 0:00:01\r\u001b[K     |██████████████████████████▊     | 1.5 MB 21.6 MB/s eta 0:00:01\r\u001b[K     |███████████████████████████     | 1.5 MB 21.6 MB/s eta 0:00:01\r\u001b[K     |███████████████████████████▏    | 1.5 MB 21.6 MB/s eta 0:00:01\r\u001b[K     |███████████████████████████▍    | 1.5 MB 21.6 MB/s eta 0:00:01\r\u001b[K     |███████████████████████████▌    | 1.5 MB 21.6 MB/s eta 0:00:01\r\u001b[K     |███████████████████████████▊    | 1.5 MB 21.6 MB/s eta 0:00:01\r\u001b[K     |████████████████████████████    | 1.5 MB 21.6 MB/s eta 0:00:01\r\u001b[K     |████████████████████████████    | 1.5 MB 21.6 MB/s eta 0:00:01\r\u001b[K     |████████████████████████████▎   | 1.5 MB 21.6 MB/s eta 0:00:01\r\u001b[K     |████████████████████████████▌   | 1.6 MB 21.6 MB/s eta 0:00:01\r\u001b[K     |████████████████████████████▋   | 1.6 MB 21.6 MB/s eta 0:00:01\r\u001b[K     |████████████████████████████▉   | 1.6 MB 21.6 MB/s eta 0:00:01\r\u001b[K     |█████████████████████████████   | 1.6 MB 21.6 MB/s eta 0:00:01\r\u001b[K     |█████████████████████████████▏  | 1.6 MB 21.6 MB/s eta 0:00:01\r\u001b[K     |█████████████████████████████▍  | 1.6 MB 21.6 MB/s eta 0:00:01\r\u001b[K     |█████████████████████████████▋  | 1.6 MB 21.6 MB/s eta 0:00:01\r\u001b[K     |█████████████████████████████▊  | 1.6 MB 21.6 MB/s eta 0:00:01\r\u001b[K     |██████████████████████████████  | 1.6 MB 21.6 MB/s eta 0:00:01\r\u001b[K     |██████████████████████████████▏ | 1.6 MB 21.6 MB/s eta 0:00:01\r\u001b[K     |██████████████████████████████▍ | 1.7 MB 21.6 MB/s eta 0:00:01\r\u001b[K     |██████████████████████████████▌ | 1.7 MB 21.6 MB/s eta 0:00:01\r\u001b[K     |██████████████████████████████▊ | 1.7 MB 21.6 MB/s eta 0:00:01\r\u001b[K     |███████████████████████████████ | 1.7 MB 21.6 MB/s eta 0:00:01\r\u001b[K     |███████████████████████████████ | 1.7 MB 21.6 MB/s eta 0:00:01\r\u001b[K     |███████████████████████████████▎| 1.7 MB 21.6 MB/s eta 0:00:01\r\u001b[K     |███████████████████████████████▌| 1.7 MB 21.6 MB/s eta 0:00:01\r\u001b[K     |███████████████████████████████▋| 1.7 MB 21.6 MB/s eta 0:00:01\r\u001b[K     |███████████████████████████████▉| 1.7 MB 21.6 MB/s eta 0:00:01\r\u001b[K     |████████████████████████████████| 1.7 MB 21.6 MB/s \n",
            "\u001b[?25hCollecting analytics-python\n",
            "  Downloading analytics_python-1.4.0-py2.py3-none-any.whl (15 kB)\n",
            "Collecting aiohttp\n",
            "  Downloading aiohttp-3.8.1-cp37-cp37m-manylinux_2_5_x86_64.manylinux1_x86_64.manylinux_2_12_x86_64.manylinux2010_x86_64.whl (1.1 MB)\n",
            "\u001b[K     |████████████████████████████████| 1.1 MB 37.5 MB/s \n",
            "\u001b[?25hRequirement already satisfied: pillow in /usr/local/lib/python3.7/dist-packages (from gradio) (7.1.2)\n",
            "Collecting markdown-it-py[linkify,plugins]\n",
            "  Downloading markdown_it_py-2.0.1-py3-none-any.whl (84 kB)\n",
            "\u001b[K     |████████████████████████████████| 84 kB 2.8 MB/s \n",
            "\u001b[?25hCollecting ffmpy\n",
            "  Downloading ffmpy-0.3.0.tar.gz (4.8 kB)\n",
            "Requirement already satisfied: pandas in /usr/local/lib/python3.7/dist-packages (from gradio) (1.3.5)\n",
            "Collecting paramiko\n",
            "  Downloading paramiko-2.10.3-py2.py3-none-any.whl (211 kB)\n",
            "\u001b[K     |████████████████████████████████| 211 kB 41.1 MB/s \n",
            "\u001b[?25hCollecting orjson\n",
            "  Downloading orjson-3.6.7-cp37-cp37m-manylinux_2_24_x86_64.whl (255 kB)\n",
            "\u001b[K     |████████████████████████████████| 255 kB 40.5 MB/s \n",
            "\u001b[?25hCollecting python-multipart\n",
            "  Downloading python-multipart-0.0.5.tar.gz (32 kB)\n",
            "Collecting pydub\n",
            "  Downloading pydub-0.25.1-py2.py3-none-any.whl (32 kB)\n",
            "Collecting uvicorn\n",
            "  Downloading uvicorn-0.17.6-py3-none-any.whl (53 kB)\n",
            "\u001b[K     |████████████████████████████████| 53 kB 2.2 MB/s \n",
            "\u001b[?25hRequirement already satisfied: matplotlib in /usr/local/lib/python3.7/dist-packages (from gradio) (3.2.2)\n",
            "Collecting pycryptodome\n",
            "  Downloading pycryptodome-3.14.1-cp35-abi3-manylinux2010_x86_64.whl (2.0 MB)\n",
            "\u001b[K     |████████████████████████████████| 2.0 MB 41.5 MB/s \n",
            "\u001b[?25hRequirement already satisfied: requests in /usr/local/lib/python3.7/dist-packages (from gradio) (2.23.0)\n",
            "Collecting fastapi\n",
            "  Downloading fastapi-0.75.1-py3-none-any.whl (54 kB)\n",
            "\u001b[K     |████████████████████████████████| 54 kB 2.5 MB/s \n",
            "\u001b[?25hRequirement already satisfied: numpy in /usr/local/lib/python3.7/dist-packages (from gradio) (1.21.5)\n",
            "Collecting frozenlist>=1.1.1\n",
            "  Downloading frozenlist-1.3.0-cp37-cp37m-manylinux_2_5_x86_64.manylinux1_x86_64.manylinux_2_17_x86_64.manylinux2014_x86_64.whl (144 kB)\n",
            "\u001b[K     |████████████████████████████████| 144 kB 47.5 MB/s \n",
            "\u001b[?25hCollecting yarl<2.0,>=1.0\n",
            "  Downloading yarl-1.7.2-cp37-cp37m-manylinux_2_5_x86_64.manylinux1_x86_64.manylinux_2_12_x86_64.manylinux2010_x86_64.whl (271 kB)\n",
            "\u001b[K     |████████████████████████████████| 271 kB 53.3 MB/s \n",
            "\u001b[?25hRequirement already satisfied: attrs>=17.3.0 in /usr/local/lib/python3.7/dist-packages (from aiohttp->gradio) (21.4.0)\n",
            "Collecting async-timeout<5.0,>=4.0.0a3\n",
            "  Downloading async_timeout-4.0.2-py3-none-any.whl (5.8 kB)\n",
            "Collecting asynctest==0.13.0\n",
            "  Downloading asynctest-0.13.0-py3-none-any.whl (26 kB)\n",
            "Collecting aiosignal>=1.1.2\n",
            "  Downloading aiosignal-1.2.0-py3-none-any.whl (8.2 kB)\n",
            "Requirement already satisfied: charset-normalizer<3.0,>=2.0 in /usr/local/lib/python3.7/dist-packages (from aiohttp->gradio) (2.0.12)\n",
            "Requirement already satisfied: typing-extensions>=3.7.4 in /usr/local/lib/python3.7/dist-packages (from aiohttp->gradio) (3.10.0.2)\n",
            "Collecting multidict<7.0,>=4.5\n",
            "  Downloading multidict-6.0.2-cp37-cp37m-manylinux_2_17_x86_64.manylinux2014_x86_64.whl (94 kB)\n",
            "\u001b[K     |████████████████████████████████| 94 kB 3.6 MB/s \n",
            "\u001b[?25hRequirement already satisfied: idna>=2.0 in /usr/local/lib/python3.7/dist-packages (from yarl<2.0,>=1.0->aiohttp->gradio) (2.10)\n",
            "Requirement already satisfied: six>=1.5 in /usr/local/lib/python3.7/dist-packages (from analytics-python->gradio) (1.15.0)\n",
            "Collecting backoff==1.10.0\n",
            "  Downloading backoff-1.10.0-py2.py3-none-any.whl (31 kB)\n",
            "Collecting monotonic>=1.5\n",
            "  Downloading monotonic-1.6-py2.py3-none-any.whl (8.2 kB)\n",
            "Requirement already satisfied: python-dateutil>2.1 in /usr/local/lib/python3.7/dist-packages (from analytics-python->gradio) (2.8.2)\n",
            "Requirement already satisfied: chardet<4,>=3.0.2 in /usr/local/lib/python3.7/dist-packages (from requests->gradio) (3.0.4)\n",
            "Requirement already satisfied: urllib3!=1.25.0,!=1.25.1,<1.26,>=1.21.1 in /usr/local/lib/python3.7/dist-packages (from requests->gradio) (1.24.3)\n",
            "Requirement already satisfied: certifi>=2017.4.17 in /usr/local/lib/python3.7/dist-packages (from requests->gradio) (2021.10.8)\n",
            "Collecting starlette==0.17.1\n",
            "  Downloading starlette-0.17.1-py3-none-any.whl (58 kB)\n",
            "\u001b[K     |████████████████████████████████| 58 kB 5.9 MB/s \n",
            "\u001b[?25hCollecting pydantic!=1.7,!=1.7.1,!=1.7.2,!=1.7.3,!=1.8,!=1.8.1,<2.0.0,>=1.6.2\n",
            "  Downloading pydantic-1.9.0-cp37-cp37m-manylinux_2_17_x86_64.manylinux2014_x86_64.whl (10.9 MB)\n",
            "\u001b[K     |████████████████████████████████| 10.9 MB 49.4 MB/s \n",
            "\u001b[?25hCollecting anyio<4,>=3.0.0\n",
            "  Downloading anyio-3.5.0-py3-none-any.whl (79 kB)\n",
            "\u001b[K     |████████████████████████████████| 79 kB 8.2 MB/s \n",
            "\u001b[?25hCollecting sniffio>=1.1\n",
            "  Downloading sniffio-1.2.0-py3-none-any.whl (10 kB)\n",
            "Collecting mdurl~=0.1\n",
            "  Downloading mdurl-0.1.0-py3-none-any.whl (11 kB)\n",
            "Collecting linkify-it-py~=1.0\n",
            "  Downloading linkify_it_py-1.0.3-py3-none-any.whl (19 kB)\n",
            "Collecting mdit-py-plugins\n",
            "  Downloading mdit_py_plugins-0.3.0-py3-none-any.whl (43 kB)\n",
            "\u001b[K     |████████████████████████████████| 43 kB 2.2 MB/s \n",
            "\u001b[?25hCollecting uc-micro-py\n",
            "  Downloading uc_micro_py-1.0.1-py3-none-any.whl (6.2 kB)\n",
            "Requirement already satisfied: kiwisolver>=1.0.1 in /usr/local/lib/python3.7/dist-packages (from matplotlib->gradio) (1.4.0)\n",
            "Requirement already satisfied: pyparsing!=2.0.4,!=2.1.2,!=2.1.6,>=2.0.1 in /usr/local/lib/python3.7/dist-packages (from matplotlib->gradio) (3.0.7)\n",
            "Requirement already satisfied: cycler>=0.10 in /usr/local/lib/python3.7/dist-packages (from matplotlib->gradio) (0.11.0)\n",
            "Requirement already satisfied: pytz>=2017.3 in /usr/local/lib/python3.7/dist-packages (from pandas->gradio) (2018.9)\n",
            "Collecting cryptography>=2.5\n",
            "  Downloading cryptography-36.0.2-cp36-abi3-manylinux_2_24_x86_64.whl (3.6 MB)\n",
            "\u001b[K     |████████████████████████████████| 3.6 MB 48.4 MB/s \n",
            "\u001b[?25hCollecting pynacl>=1.0.1\n",
            "  Downloading PyNaCl-1.5.0-cp36-abi3-manylinux_2_17_x86_64.manylinux2014_x86_64.manylinux_2_24_x86_64.whl (856 kB)\n",
            "\u001b[K     |████████████████████████████████| 856 kB 57.6 MB/s \n",
            "\u001b[?25hCollecting bcrypt>=3.1.3\n",
            "  Downloading bcrypt-3.2.0-cp36-abi3-manylinux_2_17_x86_64.manylinux2014_x86_64.manylinux_2_24_x86_64.whl (61 kB)\n",
            "\u001b[K     |████████████████████████████████| 61 kB 554 kB/s \n",
            "\u001b[?25hRequirement already satisfied: cffi>=1.1 in /usr/local/lib/python3.7/dist-packages (from bcrypt>=3.1.3->paramiko->gradio) (1.15.0)\n",
            "Requirement already satisfied: pycparser in /usr/local/lib/python3.7/dist-packages (from cffi>=1.1->bcrypt>=3.1.3->paramiko->gradio) (2.21)\n",
            "Requirement already satisfied: click>=7.0 in /usr/local/lib/python3.7/dist-packages (from uvicorn->gradio) (7.1.2)\n",
            "Collecting h11>=0.8\n",
            "  Downloading h11-0.13.0-py3-none-any.whl (58 kB)\n",
            "\u001b[K     |████████████████████████████████| 58 kB 5.9 MB/s \n",
            "\u001b[?25hCollecting asgiref>=3.4.0\n",
            "  Downloading asgiref-3.5.0-py3-none-any.whl (22 kB)\n",
            "Building wheels for collected packages: ffmpy, python-multipart\n",
            "  Building wheel for ffmpy (setup.py) ... \u001b[?25l\u001b[?25hdone\n",
            "  Created wheel for ffmpy: filename=ffmpy-0.3.0-py3-none-any.whl size=4712 sha256=d0a1d3430324ea61dc4d6ad2d5a2a2584c0002e8c28fb0c41476affe14021fc5\n",
            "  Stored in directory: /root/.cache/pip/wheels/13/e4/6c/e8059816e86796a597c6e6b0d4c880630f51a1fcfa0befd5e6\n",
            "  Building wheel for python-multipart (setup.py) ... \u001b[?25l\u001b[?25hdone\n",
            "  Created wheel for python-multipart: filename=python_multipart-0.0.5-py3-none-any.whl size=31678 sha256=11b0931de484fc1be381042628783806709098cd661015924a4e2a3428787857\n",
            "  Stored in directory: /root/.cache/pip/wheels/2c/41/7c/bfd1c180534ffdcc0972f78c5758f89881602175d48a8bcd2c\n",
            "Successfully built ffmpy python-multipart\n",
            "Installing collected packages: sniffio, mdurl, uc-micro-py, multidict, markdown-it-py, frozenlist, anyio, yarl, starlette, pynacl, pydantic, monotonic, mdit-py-plugins, linkify-it-py, h11, cryptography, bcrypt, backoff, asynctest, async-timeout, asgiref, aiosignal, uvicorn, python-multipart, pydub, pycryptodome, paramiko, orjson, ffmpy, fastapi, analytics-python, aiohttp, gradio\n",
            "Successfully installed aiohttp-3.8.1 aiosignal-1.2.0 analytics-python-1.4.0 anyio-3.5.0 asgiref-3.5.0 async-timeout-4.0.2 asynctest-0.13.0 backoff-1.10.0 bcrypt-3.2.0 cryptography-36.0.2 fastapi-0.75.1 ffmpy-0.3.0 frozenlist-1.3.0 gradio-2.9.1 h11-0.13.0 linkify-it-py-1.0.3 markdown-it-py-2.0.1 mdit-py-plugins-0.3.0 mdurl-0.1.0 monotonic-1.6 multidict-6.0.2 orjson-3.6.7 paramiko-2.10.3 pycryptodome-3.14.1 pydantic-1.9.0 pydub-0.25.1 pynacl-1.5.0 python-multipart-0.0.5 sniffio-1.2.0 starlette-0.17.1 uc-micro-py-1.0.1 uvicorn-0.17.6 yarl-1.7.2\n"
          ]
        }
      ],
      "source": [
        "! pip install gradio\n",
        "import gradio as gr"
      ]
    },
    {
      "cell_type": "code",
      "source": [
        "import requests\n",
        "import pandas as pd"
      ],
      "metadata": {
        "id": "kydKfQiCeuGd"
      },
      "execution_count": 2,
      "outputs": []
    },
    {
      "cell_type": "code",
      "source": [
        "URL = ('http://apis.data.go.kr/6470000/hanbokdict_g/entrylist?'\n",
        "       'serviceKey=TcmUsgeK%2Fyz4270yn%2B8cqZHZVUh%2FsUEtNbw4tZ98aWnkKwG1VIA304SPEZobCGbp6WL9NINhcKFbh%2B4VC25EfA%3D%3D'\n",
        "       '&pageNo=1'\n",
        "       '&query='\n",
        "       '&responseFormat=json') \n",
        "response = requests.get(URL) # 한인문학사전 용어 상세정보"
      ],
      "metadata": {
        "id": "JuxQg0SWe5AK"
      },
      "execution_count": 12,
      "outputs": []
    },
    {
      "cell_type": "code",
      "source": [
        "response\n",
        "# 일단은 성공"
      ],
      "metadata": {
        "colab": {
          "base_uri": "https://localhost:8080/"
        },
        "id": "QuajpuR_h-jr",
        "outputId": "581a00fb-13af-4cd6-9704-98272f5828f3"
      },
      "execution_count": 13,
      "outputs": [
        {
          "output_type": "execute_result",
          "data": {
            "text/plain": [
              "<Response [200]>"
            ]
          },
          "metadata": {},
          "execution_count": 13
        }
      ]
    },
    {
      "cell_type": "markdown",
      "source": [
        "http://jsonviewer.stack.hu/ #편의상"
      ],
      "metadata": {
        "id": "_RBoQS4PgquD"
      }
    },
    {
      "cell_type": "code",
      "source": [
        "import json"
      ],
      "metadata": {
        "id": "5Ts2C17pmPkS"
      },
      "execution_count": 15,
      "outputs": []
    },
    {
      "cell_type": "code",
      "source": [
        "r = requests.get(URL).json()\n",
        "r\n",
        "# json 뒤에 괄호가 없으면 bound method response가 뜬다... "
      ],
      "metadata": {
        "colab": {
          "base_uri": "https://localhost:8080/"
        },
        "id": "VJjY8cyEg9Yj",
        "outputId": "099d1b76-e324-4360-ab70-b1d67cd64dbd"
      },
      "execution_count": 22,
      "outputs": [
        {
          "output_type": "execute_result",
          "data": {
            "text/plain": [
              "{'headers': {'resultCode': '00', 'resultMsg': 'NORMAL SERVICE'},\n",
              " 'numOfRows': 10,\n",
              " 'pageNo': 1,\n",
              " 'query': '',\n",
              " 'results': [{'category': '용어',\n",
              "   'dataKey': '12',\n",
              "   'keywords': '모던, 신한복',\n",
              "   'title': '개량한복',\n",
              "   'titleHanja': None},\n",
              "  {'category': '용어',\n",
              "   'dataKey': '72',\n",
              "   'keywords': '단발, 단발령, 을미개혁',\n",
              "   'title': '단발령',\n",
              "   'titleHanja': '斷髮令'},\n",
              "  {'category': '용어',\n",
              "   'dataKey': '105',\n",
              "   'keywords': '단발랑, 송곳구두, 신여성, 실크스타킹, 양산, 여학생, 트레머리, 핸드백',\n",
              "   'title': '모던걸',\n",
              "   'titleHanja': 'Modern girl'},\n",
              "  {'category': '용어',\n",
              "   'dataKey': '106',\n",
              "   'keywords': '구두, 남촌, 맥주, 모자, 시계, 양복, 축음기, 혼부라',\n",
              "   'title': '모던보이',\n",
              "   'titleHanja': 'Modern boy'},\n",
              "  {'category': '용어',\n",
              "   'dataKey': '123',\n",
              "   'keywords': '규중칠우, 침선, 침선비',\n",
              "   'title': '바느질',\n",
              "   'titleHanja': '針線'},\n",
              "  {'category': '용어',\n",
              "   'dataKey': '163',\n",
              "   'keywords': '거풍, 궤, 녹두풀, 다리미, 밞다듬이, 쌀뜨물, 잿물, 팥가루, 홍두깨, 횃대',\n",
              "   'title': '세탁, 푸새, 다듬이질, 갈무',\n",
              "   'titleHanja': '洗濯'},\n",
              "  {'category': '용어',\n",
              "   'dataKey': '314',\n",
              "   'keywords': '한복 대여업체',\n",
              "   'title': '퓨전한복',\n",
              "   'titleHanja': None}],\n",
              " 'totalCount': 7}"
            ]
          },
          "metadata": {},
          "execution_count": 22
        }
      ]
    },
    {
      "cell_type": "code",
      "source": [
        ""
      ],
      "metadata": {
        "id": "a6yJLpybT2eR"
      },
      "execution_count": null,
      "outputs": []
    },
    {
      "cell_type": "code",
      "source": [
        "items = r['headers'] ['resultCode']['resultMSG']\n",
        "\n",
        "category = [item['categaory']for item in items ]\n",
        "dataKey =  [item['dataKey']for item in items ]\n",
        "keywords =  [item['keywords']for item in items ]\n",
        "title =  [item['title']for item in items ]\n",
        "\n",
        "category = pd.Series(category)\n",
        "dataKey = pd.Series(dataKey)\n",
        "keywords = pd.Series(keywords)\n",
        "title = pd.Series(title)\n",
        "\n",
        "df = pd.DataFrame({'category': category, 'dataKey' : dataKey, 'keywords': keywords , title :'title'})\n",
        "return df"
      ],
      "metadata": {
        "id": "Swd8Y79VPzd1",
        "outputId": "199d992c-8591-4236-a4b9-75899073af7f",
        "colab": {
          "base_uri": "https://localhost:8080/",
          "height": 245
        }
      },
      "execution_count": 28,
      "outputs": [
        {
          "output_type": "error",
          "ename": "TypeError",
          "evalue": "ignored",
          "traceback": [
            "\u001b[0;31m---------------------------------------------------------------------------\u001b[0m",
            "\u001b[0;31mTypeError\u001b[0m                                 Traceback (most recent call last)",
            "\u001b[0;32m<ipython-input-28-b9940c308514>\u001b[0m in \u001b[0;36m<module>\u001b[0;34m()\u001b[0m\n\u001b[0;32m----> 1\u001b[0;31m \u001b[0mitems\u001b[0m \u001b[0;34m=\u001b[0m \u001b[0mr\u001b[0m\u001b[0;34m[\u001b[0m\u001b[0;34m'headers'\u001b[0m\u001b[0;34m]\u001b[0m \u001b[0;34m[\u001b[0m\u001b[0;34m'resultCode'\u001b[0m\u001b[0;34m]\u001b[0m\u001b[0;34m[\u001b[0m\u001b[0;34m'resultMSG'\u001b[0m\u001b[0;34m]\u001b[0m\u001b[0;34m\u001b[0m\u001b[0;34m\u001b[0m\u001b[0m\n\u001b[0m\u001b[1;32m      2\u001b[0m \u001b[0;34m\u001b[0m\u001b[0m\n\u001b[1;32m      3\u001b[0m \u001b[0mcategory\u001b[0m \u001b[0;34m=\u001b[0m \u001b[0;34m[\u001b[0m\u001b[0mitem\u001b[0m\u001b[0;34m[\u001b[0m\u001b[0;34m'categaory'\u001b[0m\u001b[0;34m]\u001b[0m\u001b[0;32mfor\u001b[0m \u001b[0mitem\u001b[0m \u001b[0;32min\u001b[0m \u001b[0mitems\u001b[0m \u001b[0;34m]\u001b[0m\u001b[0;34m\u001b[0m\u001b[0;34m\u001b[0m\u001b[0m\n\u001b[1;32m      4\u001b[0m \u001b[0mdataKey\u001b[0m \u001b[0;34m=\u001b[0m  \u001b[0;34m[\u001b[0m\u001b[0mitem\u001b[0m\u001b[0;34m[\u001b[0m\u001b[0;34m'dataKey'\u001b[0m\u001b[0;34m]\u001b[0m\u001b[0;32mfor\u001b[0m \u001b[0mitem\u001b[0m \u001b[0;32min\u001b[0m \u001b[0mitems\u001b[0m \u001b[0;34m]\u001b[0m\u001b[0;34m\u001b[0m\u001b[0;34m\u001b[0m\u001b[0m\n\u001b[1;32m      5\u001b[0m \u001b[0mkeywords\u001b[0m \u001b[0;34m=\u001b[0m  \u001b[0;34m[\u001b[0m\u001b[0mitem\u001b[0m\u001b[0;34m[\u001b[0m\u001b[0;34m'keywords'\u001b[0m\u001b[0;34m]\u001b[0m\u001b[0;32mfor\u001b[0m \u001b[0mitem\u001b[0m \u001b[0;32min\u001b[0m \u001b[0mitems\u001b[0m \u001b[0;34m]\u001b[0m\u001b[0;34m\u001b[0m\u001b[0;34m\u001b[0m\u001b[0m\n",
            "\u001b[0;31mTypeError\u001b[0m: string indices must be integers"
          ]
        }
      ]
    }
  ]
}