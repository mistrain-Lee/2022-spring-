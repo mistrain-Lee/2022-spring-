{
  "nbformat": 4,
  "nbformat_minor": 0,
  "metadata": {
    "colab": {
      "name": "import.ipynb의 사본",
      "provenance": [],
      "include_colab_link": true
    },
    "kernelspec": {
      "name": "python3",
      "display_name": "Python 3"
    },
    "language_info": {
      "name": "python"
    }
  },
  "cells": [
    {
      "cell_type": "markdown",
      "metadata": {
        "id": "view-in-github",
        "colab_type": "text"
      },
      "source": [
        "<a href=\"https://colab.research.google.com/github/mistrain-Lee/2022-spring-/blob/main/import_ipynb%EC%9D%98_%EC%82%AC%EB%B3%B8.ipynb\" target=\"_parent\"><img src=\"https://colab.research.google.com/assets/colab-badge.svg\" alt=\"Open In Colab\"/></a>"
      ]
    },
    {
      "cell_type": "code",
      "source": [
        "import numpy\n",
        "# 가장 중요한 패키지라고 할 수 있다. "
      ],
      "metadata": {
        "id": "HK4S9wh1xuWE"
      },
      "execution_count": null,
      "outputs": []
    },
    {
      "cell_type": "code",
      "source": [
        "numpy.random.randn(5)\n",
        "# 랜덤 넙저 - 난수가 만들어진다. -1 ~1 까지.\n",
        "# numpy- radom 이라는 폴더에 있는 randn이라는 함수실행\n",
        "# numpy가 깔려 있어야 가능한 것임. "
      ],
      "metadata": {
        "id": "XGaNu7zJx0on",
        "outputId": "e03acbc1-b623-4c42-c6d5-a8fbea86b501",
        "colab": {
          "base_uri": "https://localhost:8080/"
        }
      },
      "execution_count": null,
      "outputs": [
        {
          "output_type": "execute_result",
          "data": {
            "text/plain": [
              "array([ 0.67962274, -1.31668879,  1.32845897,  0.93381364, -0.94063436])"
            ]
          },
          "metadata": {},
          "execution_count": 3
        }
      ]
    },
    {
      "cell_type": "code",
      "source": [
        ""
      ],
      "metadata": {
        "id": "hQLiUv2Bx8Xf"
      },
      "execution_count": null,
      "outputs": []
    },
    {
      "cell_type": "code",
      "metadata": {
        "id": "JXicrkYOzPRo"
      },
      "source": [
        "import numpy as np\n",
        "# 난수를 끌어올때, 행렬을 만들때, 통꼐처리를 할때 사용한다. \n",
        "# as 숫자를 간단하게 한다. \n",
        "n = np.random.randn(100)\n",
        "# n에 숫자 100개가 들어감"
      ],
      "execution_count": null,
      "outputs": []
    },
    {
      "cell_type": "code",
      "metadata": {
        "id": "oKT4vn4MwyLA",
        "colab": {
          "base_uri": "https://localhost:8080/",
          "height": 356
        },
        "outputId": "872949f6-cf00-4fca-b4a2-2ff1f9b461d1"
      },
      "source": [
        "import matplotlib\n",
        "matplotlib.pyplot.hist(n)\n",
        "# hist 함수 실행 \n",
        "# 히스토그램 - hist() 칸을 두는 것이다. y축엔 횟수가 나온다. 갯수라고 생각한다. "
      ],
      "execution_count": null,
      "outputs": [
        {
          "output_type": "execute_result",
          "data": {
            "text/plain": [
              "(array([ 2.,  5.,  9., 20., 18., 19., 11., 10.,  4.,  2.]),\n",
              " array([-2.18677177, -1.70445219, -1.22213261, -0.73981303, -0.25749344,\n",
              "         0.22482614,  0.70714572,  1.1894653 ,  1.67178488,  2.15410446,\n",
              "         2.63642404]),\n",
              " <a list of 10 Patch objects>)"
            ]
          },
          "metadata": {},
          "execution_count": 9
        },
        {
          "output_type": "display_data",
          "data": {
            "text/plain": [
              "<Figure size 432x288 with 1 Axes>"
            ],
            "image/png": "[encoded data removed]"
          },
          "metadata": {
            "needs_background": "light"
          }
        }
      ]
    },
    {
      "cell_type": "code",
      "metadata": {
        "colab": {
          "base_uri": "https://localhost:8080/",
          "height": 356
        },
        "id": "zQJ4LnbA-Hvz",
        "outputId": "8ea8c736-c027-4203-e360-f7ceb1ca1ed7"
      },
      "source": [
        "import matplotlib.pyplot\n",
        "# 하위 디렉토리까지 사용해서 이야기할 수 있다. 근데 어차피 밑에 다시 써야 되서 선호되지는 않는다. \n",
        "matplotlib.pyplot.hist(n)\n",
        "# 패키지- 폴더- 함수 순"
      ],
      "execution_count": null,
      "outputs": [
        {
          "output_type": "execute_result",
          "data": {
            "text/plain": [
              "(array([ 2.,  5.,  9., 20., 18., 19., 11., 10.,  4.,  2.]),\n",
              " array([-2.18677177, -1.70445219, -1.22213261, -0.73981303, -0.25749344,\n",
              "         0.22482614,  0.70714572,  1.1894653 ,  1.67178488,  2.15410446,\n",
              "         2.63642404]),\n",
              " <a list of 10 Patch objects>)"
            ]
          },
          "metadata": {},
          "execution_count": 11
        },
        {
          "output_type": "display_data",
          "data": {
            "text/plain": [
              "<Figure size 432x288 with 1 Axes>"
            ],
            "image/png": "[encoded data removed]"
          },
          "metadata": {
            "needs_background": "light"
          }
        }
      ]
    },
    {
      "cell_type": "code",
      "metadata": {
        "id": "AWU6awi53c07",
        "outputId": "ec382457-2b7a-4466-cbc7-101521a761a5",
        "colab": {
          "base_uri": "https://localhost:8080/",
          "height": 356
        }
      },
      "source": [
        "import matplotlib.pyplot as plt\n",
        "# as로 받아서 간단하게 한다. \n",
        "plt.hist(n)"
      ],
      "execution_count": null,
      "outputs": [
        {
          "output_type": "execute_result",
          "data": {
            "text/plain": [
              "(array([ 2.,  5.,  9., 20., 18., 19., 11., 10.,  4.,  2.]),\n",
              " array([-2.18677177, -1.70445219, -1.22213261, -0.73981303, -0.25749344,\n",
              "         0.22482614,  0.70714572,  1.1894653 ,  1.67178488,  2.15410446,\n",
              "         2.63642404]),\n",
              " <a list of 10 Patch objects>)"
            ]
          },
          "metadata": {},
          "execution_count": 10
        },
        {
          "output_type": "display_data",
          "data": {
            "text/plain": [
              "<Figure size 432x288 with 1 Axes>"
            ],
            "image/png": "[encoded data removed]"
          },
          "metadata": {
            "needs_background": "light"
          }
        }
      ]
    },
    {
      "cell_type": "markdown",
      "source": [
        "## from import를 쓰면 import as처럼 축약해서 부를 수 있는 효과"
      ],
      "metadata": {
        "id": "v1zA2xRWzpdu"
      }
    },
    {
      "cell_type": "code",
      "metadata": {
        "colab": {
          "base_uri": "https://localhost:8080/",
          "height": 356
        },
        "id": "moIjn3Kv-Hqy",
        "outputId": "70e3d1f9-595e-4bc4-8630-905665674e35"
      },
      "source": [
        "from matplotlib import pyplot\n",
        "# 하위 폴더만 끌어오는 것이다 단축하는 것이다. \n",
        "pyplot.hist(n)"
      ],
      "execution_count": null,
      "outputs": [
        {
          "output_type": "execute_result",
          "data": {
            "text/plain": [
              "(array([ 2.,  5.,  9., 20., 18., 19., 11., 10.,  4.,  2.]),\n",
              " array([-2.18677177, -1.70445219, -1.22213261, -0.73981303, -0.25749344,\n",
              "         0.22482614,  0.70714572,  1.1894653 ,  1.67178488,  2.15410446,\n",
              "         2.63642404]),\n",
              " <a list of 10 Patch objects>)"
            ]
          },
          "metadata": {},
          "execution_count": 12
        },
        {
          "output_type": "display_data",
          "data": {
            "text/plain": [
              "<Figure size 432x288 with 1 Axes>"
            ],
            "image/png": "[encoded data removed]"
          },
          "metadata": {
            "needs_background": "light"
          }
        }
      ]
    },
    {
      "cell_type": "code",
      "metadata": {
        "colab": {
          "base_uri": "https://localhost:8080/",
          "height": 356
        },
        "id": "ORo259i7_Uqi",
        "outputId": "33b7c623-1c44-41b3-b694-0cfdbee76300"
      },
      "source": [
        "from matplotlib.pyplot import hist\n",
        "hist(n)"
      ],
      "execution_count": null,
      "outputs": [
        {
          "output_type": "execute_result",
          "data": {
            "text/plain": [
              "(array([ 2.,  5.,  9., 20., 18., 19., 11., 10.,  4.,  2.]),\n",
              " array([-2.18677177, -1.70445219, -1.22213261, -0.73981303, -0.25749344,\n",
              "         0.22482614,  0.70714572,  1.1894653 ,  1.67178488,  2.15410446,\n",
              "         2.63642404]),\n",
              " <a list of 10 Patch objects>)"
            ]
          },
          "metadata": {},
          "execution_count": 13
        },
        {
          "output_type": "display_data",
          "data": {
            "text/plain": [
              "<Figure size 432x288 with 1 Axes>"
            ],
            "image/png": "[encoded data removed]"
          },
          "metadata": {
            "needs_background": "light"
          }
        }
      ]
    }
  ]
}