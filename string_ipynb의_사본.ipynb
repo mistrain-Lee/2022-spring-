{
  "nbformat": 4,
  "nbformat_minor": 0,
  "metadata": {
    "kernelspec": {
      "display_name": "Python 3",
      "language": "python",
      "name": "python3"
    },
    "language_info": {
      "codemirror_mode": {
        "name": "ipython",
        "version": 3
      },
      "file_extension": ".py",
      "mimetype": "text/x-python",
      "name": "python",
      "nbconvert_exporter": "python",
      "pygments_lexer": "ipython3",
      "version": "3.7.1"
    },
    "colab": {
      "name": "string.ipynb의 사본",
      "provenance": [],
      "include_colab_link": true
    }
  },
  "cells": [
    {
      "cell_type": "markdown",
      "metadata": {
        "id": "view-in-github",
        "colab_type": "text"
      },
      "source": [
        "<a href=\"https://colab.research.google.com/github/mistrain-Lee/2022-spring-/blob/main/string_ipynb%EC%9D%98_%EC%82%AC%EB%B3%B8.ipynb\" target=\"_parent\"><img src=\"https://colab.research.google.com/assets/colab-badge.svg\" alt=\"Open In Colab\"/></a>"
      ]
    },
    {
      "cell_type": "code",
      "metadata": {
        "id": "zwpWU02YmAur",
        "outputId": "50f8d084-1612-47e5-ca0c-571cfe9eb8a9",
        "colab": {
          "base_uri": "https://localhost:8080/"
        }
      },
      "source": [
        "s = 'abcdef'\n",
        "print(s[0], s[5], s[-1], s[-6])\n",
        "print(s[1:3], s[1:], s[:3], s[:])\n",
        "#built in fuction - 내장되어 있는 함수임. "
      ],
      "execution_count": null,
      "outputs": [
        {
          "output_type": "stream",
          "name": "stdout",
          "text": [
            "a f f a\n",
            "bc bcdef abc abcdef\n"
          ]
        }
      ]
    },
    {
      "cell_type": "code",
      "metadata": {
        "id": "mpkdZBeWmAux",
        "outputId": "20cc4b1b-ee41-4ada-aba7-29f6843ba04d",
        "colab": {
          "base_uri": "https://localhost:8080/"
        }
      },
      "source": [
        "n = [100, 200, 300]\n",
        "print(n[0], n[2], n[-1], n[-3])\n",
        "print(n[1:2], n[1:], n[:2], n[:])\n",
        "# list도 string 비슷하게 인덱스 값을 가지고 있다. "
      ],
      "execution_count": null,
      "outputs": [
        {
          "output_type": "stream",
          "name": "stdout",
          "text": [
            "100 300 300 100\n",
            "[200] [200, 300] [100, 200] [100, 200, 300]\n"
          ]
        }
      ]
    },
    {
      "cell_type": "code",
      "metadata": {
        "id": "ulnefmnFmAuy",
        "outputId": "4ae42a6f-6d37-48d2-85cb-f0ffa7065d4b",
        "colab": {
          "base_uri": "https://localhost:8080/"
        }
      },
      "source": [
        "len(s)\n",
        "#len 합수: 원소의 갯수를 계산한다.  \n",
        "#괄호 안에 들어간다. "
      ],
      "execution_count": null,
      "outputs": [
        {
          "output_type": "execute_result",
          "data": {
            "text/plain": [
              "34"
            ]
          },
          "metadata": {},
          "execution_count": 6
        }
      ]
    },
    {
      "cell_type": "code",
      "metadata": {
        "id": "a45rgiNMmAuy",
        "outputId": "9b1a4417-a513-4f77-8ae9-64352e6da015"
      },
      "source": [
        "s[1]+s[3]+s[4:]*10\n",
        "#같은 방식으로 string도 가용이 가능하다. \n",
        "#fuction = 함수 변수를 넣는 함수 입출력이 가능함. "
      ],
      "execution_count": null,
      "outputs": [
        {
          "data": {
            "text/plain": [
              "'bdefefefefefefefefefef'"
            ]
          },
          "execution_count": 5,
          "metadata": {},
          "output_type": "execute_result"
        }
      ]
    },
    {
      "cell_type": "code",
      "metadata": {
        "id": "IevwoMpmmAuz",
        "outputId": "69636955-73a9-49f7-ea43-efdb38a982c1"
      },
      "source": [
        "s.upper()\n",
        "#.() 함수와 같음. 대문자로 올려준다. "
      ],
      "execution_count": null,
      "outputs": [
        {
          "data": {
            "text/plain": [
              "'ABCDEF'"
            ]
          },
          "execution_count": 7,
          "metadata": {},
          "output_type": "execute_result"
        }
      ]
    },
    {
      "cell_type": "code",
      "metadata": {
        "id": "LRU0Yt1amAuz",
        "outputId": "3eaf70b6-b9ba-49e9-e363-2f3390817f49",
        "colab": {
          "base_uri": "https://localhost:8080/",
          "height": 36
        }
      },
      "source": [
        "s = ' this is a house built this year.\\n' \t\n",
        "s\n",
        "# string을 말한다. s를 한번더 쓴 이유는 무엇인가? s를 쓰지 않으면 아무런 변화가 없다."
      ],
      "execution_count": null,
      "outputs": [
        {
          "output_type": "execute_result",
          "data": {
            "text/plain": [
              "' this is a house built this year.\\n'"
            ],
            "application/vnd.google.colaboratory.intrinsic+json": {
              "type": "string"
            }
          },
          "metadata": {},
          "execution_count": 10
        }
      ]
    },
    {
      "cell_type": "code",
      "source": [
        "s.upper()"
      ],
      "metadata": {
        "id": "-kdKI1kFe6g6",
        "outputId": "8d0453c7-77eb-4d2f-f2cf-0f186ba6ed7d",
        "colab": {
          "base_uri": "https://localhost:8080/",
          "height": 36
        }
      },
      "execution_count": null,
      "outputs": [
        {
          "output_type": "execute_result",
          "data": {
            "text/plain": [
              "' THIS IS A HOUSE BUILT THIS YEAR.\\n'"
            ],
            "application/vnd.google.colaboratory.intrinsic+json": {
              "type": "string"
            }
          },
          "metadata": {},
          "execution_count": 4
        }
      ]
    },
    {
      "cell_type": "code",
      "metadata": {
        "id": "nMHteyDfmAu0",
        "outputId": "2f55caa2-dd53-4fac-e876-05ca87c5d63d"
      },
      "source": [
        "result = s.find('house') \t    # index of first instance of string t inside s (-1 if not found)\n",
        "result\n",
        "# 위치를 찾는 함수이다. "
      ],
      "execution_count": null,
      "outputs": [
        {
          "data": {
            "text/plain": [
              "11"
            ]
          },
          "execution_count": 11,
          "metadata": {},
          "output_type": "execute_result"
        }
      ]
    },
    {
      "cell_type": "code",
      "metadata": {
        "id": "gv82JUX7mAu0",
        "outputId": "18540837-5eb4-4cea-f087-2f7fd1581afa"
      },
      "source": [
        "result = s.find('this')\t    # index of last instance of string t inside s (-1 if not found)\n",
        "result\n",
        "#가장 먼저 나오는 것을 찾는 것임. this는 "
      ],
      "execution_count": null,
      "outputs": [
        {
          "data": {
            "text/plain": [
              "1"
            ]
          },
          "execution_count": 12,
          "metadata": {},
          "output_type": "execute_result"
        }
      ]
    },
    {
      "cell_type": "code",
      "metadata": {
        "id": "ua3TjwLcmAu2",
        "outputId": "5f5f9be8-afed-4425-fd00-1abf8f9f6c22",
        "colab": {
          "base_uri": "https://localhost:8080/",
          "height": 36
        }
      },
      "source": [
        "s = s.strip()      \t            # a copy of s without leading or trailing whitespace\n",
        "s\n",
        "# 주변의 와이트플레이스를 지우는 것임. 뛰어쓰기 삭제\n",
        "# 이때 저장된다. "
      ],
      "execution_count": null,
      "outputs": [
        {
          "output_type": "execute_result",
          "data": {
            "text/plain": [
              "'this is a house built this year.'"
            ],
            "application/vnd.google.colaboratory.intrinsic+json": {
              "type": "string"
            }
          },
          "metadata": {},
          "execution_count": 11
        }
      ]
    },
    {
      "cell_type": "code",
      "metadata": {
        "id": "l37g5DqQmAu2",
        "outputId": "c1eefe2c-0edc-4678-c67b-b8306ca13471"
      },
      "source": [
        "tokens = s.split(' ')\t        # split s into a list wherever a t is found (whitespace by default)\n",
        "tokens\n",
        "# 빈칸을 중심으로 해서 리스트로 만들기\n"
      ],
      "execution_count": null,
      "outputs": [
        {
          "data": {
            "text/plain": [
              "['this', 'is', 'a', 'house', 'built', 'this', 'year.']"
            ]
          },
          "execution_count": 15,
          "metadata": {},
          "output_type": "execute_result"
        }
      ]
    },
    {
      "cell_type": "code",
      "metadata": {
        "id": "64sewKE8mAu2",
        "outputId": "e2e8dc1f-6b83-41ef-b746-7712099f2776"
      },
      "source": [
        "s = ' '.join(tokens)\t        # combine the words of the text into a string using s as the glue\n",
        "s"
      ],
      "execution_count": null,
      "outputs": [
        {
          "data": {
            "text/plain": [
              "'this is a house built this year.'"
            ]
          },
          "execution_count": 16,
          "metadata": {},
          "output_type": "execute_result"
        }
      ]
    },
    {
      "cell_type": "code",
      "metadata": {
        "id": "jfiqbBiImAu3",
        "outputId": "13300aff-f13a-4f48-c6ec-cbc5d01dd55b"
      },
      "source": [
        "s = s.replace('this', 'that')   # replace instances of t with u inside s\n",
        "s"
      ],
      "execution_count": null,
      "outputs": [
        {
          "data": {
            "text/plain": [
              "'that is a house built that year.'"
            ]
          },
          "execution_count": 17,
          "metadata": {},
          "output_type": "execute_result"
        }
      ]
    }
  ]
}